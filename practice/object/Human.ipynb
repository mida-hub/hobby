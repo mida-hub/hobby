{
 "cells": [
  {
   "cell_type": "code",
   "execution_count": 1,
   "metadata": {},
   "outputs": [],
   "source": [
    "# see : https://qiita.com/koher/items/6878c80014992900add7\n",
    "# see : https://www.nblog09.com/w/2019/01/09/python-setter-getter/"
   ]
  },
  {
   "cell_type": "code",
   "execution_count": 4,
   "metadata": {},
   "outputs": [
    {
     "name": "stdout",
     "output_type": "stream",
     "text": [
      "Albert Einstein\n"
     ]
    }
   ],
   "source": [
    "given_name = \"Albert\"\n",
    "family_name = \"Einstein\"\n",
    "age = 26\n",
    "print(given_name, family_name)"
   ]
  },
  {
   "cell_type": "code",
   "execution_count": 5,
   "metadata": {},
   "outputs": [
    {
     "name": "stdout",
     "output_type": "stream",
     "text": [
      "Albert Einstein\n",
      "Isaac Newton\n",
      "Galileo Galilei\n"
     ]
    }
   ],
   "source": [
    "given_names = [\"Albert\", \"Isaac\", \"Galileo\"]\n",
    "family_names = [\"Einstein\", \"Newton\", \"Galilei\"] \n",
    "ages = [26, 43, 46]\n",
    "\n",
    "for i in range(len(given_names)):\n",
    "    print(given_names[i], family_names[i])"
   ]
  },
  {
   "cell_type": "code",
   "execution_count": 7,
   "metadata": {},
   "outputs": [],
   "source": [
    "class Person(object):\n",
    "    def __init__(self, given_name, family_name, age):\n",
    "        self.given_name = given_name\n",
    "        self.family_name = family_name\n",
    "        self.age = age"
   ]
  },
  {
   "cell_type": "code",
   "execution_count": 10,
   "metadata": {},
   "outputs": [
    {
     "name": "stdout",
     "output_type": "stream",
     "text": [
      "Albert Einstein\n"
     ]
    }
   ],
   "source": [
    "person = Person(\n",
    "                    given_name = \"Albert\",\n",
    "                    family_name = \"Einstein\",\n",
    "                    age = 26\n",
    "                )\n",
    "print(person.given_name, person.family_name)\n",
    "\n",
    "person.age += 1"
   ]
  },
  {
   "cell_type": "code",
   "execution_count": 16,
   "metadata": {},
   "outputs": [],
   "source": [
    "class Person(object):\n",
    "    def __init__(self, given_name, family_name, age):\n",
    "        self.given_name = given_name\n",
    "        self.family_name = family_name\n",
    "        self.age = age\n",
    "        \n",
    "    def get_full_name(self) -> str:\n",
    "        return self.given_name + \" \" + self.family_name"
   ]
  },
  {
   "cell_type": "code",
   "execution_count": 17,
   "metadata": {},
   "outputs": [
    {
     "name": "stdout",
     "output_type": "stream",
     "text": [
      "Albert Einstein\n"
     ]
    }
   ],
   "source": [
    "person = Person(\n",
    "                    given_name = \"Albert\",\n",
    "                    family_name = \"Einstein\",\n",
    "                    age = 26\n",
    "                )\n",
    "print(person.get_full_name())"
   ]
  },
  {
   "cell_type": "code",
   "execution_count": 75,
   "metadata": {},
   "outputs": [],
   "source": [
    "class Person(object):\n",
    "    def __init__(self, given_name, family_name, age):\n",
    "        self.__given_name = given_name\n",
    "        self.__family_name = family_name\n",
    "        self.__age = age\n",
    "    \n",
    "    @property\n",
    "    def given_name(self):\n",
    "        return self.__given_name\n",
    "    \n",
    "    @property\n",
    "    def family_name(self):\n",
    "        return self.__family_name\n",
    "    \n",
    "    @property\n",
    "    def age(self):\n",
    "        return self.__age\n",
    "    \n",
    "    @given_name.setter\n",
    "    def given_name(self, value):\n",
    "        self.__given_name = value\n",
    "    \n",
    "    @family_name.setter\n",
    "    def family_name(self, value):\n",
    "        self.__family_name = value\n",
    "    \n",
    "    @age.setter\n",
    "    def age(self, value):\n",
    "        self.__age = value\n",
    "    \n",
    "    def get_full_name(self) -> str:\n",
    "        pass\n",
    "    \n",
    "    def get_full_name_and_age(self) -> str:\n",
    "        return self.get_full_name() + \"(\" + str(self.age) + \")\""
   ]
  },
  {
   "cell_type": "code",
   "execution_count": 58,
   "metadata": {},
   "outputs": [],
   "source": [
    "person = Person(\n",
    "                    given_name = \"Albert\",\n",
    "                    family_name = \"Einstein\",\n",
    "                    age = 26\n",
    "                )"
   ]
  },
  {
   "cell_type": "code",
   "execution_count": 47,
   "metadata": {},
   "outputs": [
    {
     "name": "stdout",
     "output_type": "stream",
     "text": [
      "Albert Einstein\n"
     ]
    }
   ],
   "source": [
    "print(person.get_full_name())"
   ]
  },
  {
   "cell_type": "code",
   "execution_count": 48,
   "metadata": {},
   "outputs": [
    {
     "name": "stdout",
     "output_type": "stream",
     "text": [
      "Albert Einstein(26)\n"
     ]
    }
   ],
   "source": [
    "print(person.get_full_name_and_age())"
   ]
  },
  {
   "cell_type": "code",
   "execution_count": 59,
   "metadata": {},
   "outputs": [],
   "source": [
    "person.age += 1"
   ]
  },
  {
   "cell_type": "code",
   "execution_count": 60,
   "metadata": {},
   "outputs": [
    {
     "name": "stdout",
     "output_type": "stream",
     "text": [
      "27\n"
     ]
    }
   ],
   "source": [
    "print(person.age)"
   ]
  },
  {
   "cell_type": "code",
   "execution_count": 84,
   "metadata": {},
   "outputs": [],
   "source": [
    "class WesternPerson(Person):\n",
    "    def __init__(self, given_name, family_name, age):\n",
    "        super().__init__(given_name, family_name, age)\n",
    "        self.__given_name = given_name\n",
    "        self.__family_name = family_name\n",
    "        self.__age = age\n",
    "        \n",
    "    def get_full_name(self) -> str:\n",
    "        return self.given_name + \" \" + self.family_name\n",
    "    \n",
    "class EasternPerson(Person):\n",
    "    def __init__(self, given_name, family_name, age):\n",
    "        super().__init__(given_name, family_name, age)\n",
    "        self.__given_name = given_name\n",
    "        self.__family_name = family_name\n",
    "        self.__age = age\n",
    "        \n",
    "    def get_full_name(self) -> str:\n",
    "        return self.family_name + \" \" + self.given_name"
   ]
  },
  {
   "cell_type": "code",
   "execution_count": 85,
   "metadata": {},
   "outputs": [],
   "source": [
    "westernPerson = WesternPerson(\"Albert\", \"Einstein\", 26);\n",
    "easternPerson = EasternPerson(\"信長\", \"織田\", 47);"
   ]
  },
  {
   "cell_type": "code",
   "execution_count": 86,
   "metadata": {},
   "outputs": [
    {
     "name": "stdout",
     "output_type": "stream",
     "text": [
      "Albert Einstein\n",
      "Albert Einstein(26)\n"
     ]
    }
   ],
   "source": [
    "print(westernPerson.get_full_name())\n",
    "print(westernPerson.get_full_name_and_age())"
   ]
  },
  {
   "cell_type": "code",
   "execution_count": 87,
   "metadata": {},
   "outputs": [
    {
     "name": "stdout",
     "output_type": "stream",
     "text": [
      "織田 信長\n",
      "織田 信長(47)\n"
     ]
    }
   ],
   "source": [
    "print(easternPerson.get_full_name())\n",
    "print(easternPerson.get_full_name_and_age())"
   ]
  },
  {
   "cell_type": "code",
   "execution_count": 88,
   "metadata": {},
   "outputs": [],
   "source": [
    "people = [\n",
    "    WesternPerson(\"Albert\", \"Einstein\", 26),\n",
    "    EasternPerson(\"信長\", \"織田\", 47),\n",
    "    WesternPerson(\"Isaac\", \"Newton\", 43),\n",
    "    EasternPerson(\"秀吉\", \"豊臣\", 61),\n",
    "    WesternPerson(\"Galileo\", \"Galilei\", 46),\n",
    "    EasternPerson(\"家康\", \"徳川\", 73),\n",
    "]"
   ]
  },
  {
   "cell_type": "code",
   "execution_count": 89,
   "metadata": {},
   "outputs": [
    {
     "name": "stdout",
     "output_type": "stream",
     "text": [
      "Albert Einstein\n",
      "織田 信長\n",
      "Isaac Newton\n",
      "豊臣 秀吉\n",
      "Galileo Galilei\n",
      "徳川 家康\n"
     ]
    }
   ],
   "source": [
    "for person in people:\n",
    "    print(person.get_full_name())"
   ]
  },
  {
   "cell_type": "code",
   "execution_count": null,
   "metadata": {},
   "outputs": [],
   "source": []
  }
 ],
 "metadata": {
  "kernelspec": {
   "display_name": "Python 3",
   "language": "python",
   "name": "python3"
  },
  "language_info": {
   "codemirror_mode": {
    "name": "ipython",
    "version": 3
   },
   "file_extension": ".py",
   "mimetype": "text/x-python",
   "name": "python",
   "nbconvert_exporter": "python",
   "pygments_lexer": "ipython3",
   "version": "3.7.4"
  }
 },
 "nbformat": 4,
 "nbformat_minor": 2
}
