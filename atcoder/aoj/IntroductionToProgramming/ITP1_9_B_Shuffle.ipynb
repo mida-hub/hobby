{
 "cells": [
  {
   "cell_type": "code",
   "execution_count": 22,
   "metadata": {},
   "outputs": [],
   "source": [
    "class Deck():\n",
    "    def __init__(self, s):\n",
    "        self.s = s\n",
    "    \n",
    "    def shuffle(self, h):\n",
    "        self.s = self.s[h:] + self.s[:h]\n",
    "        \n",
    "    def get_deck(self) -> str:\n",
    "        return self.s"
   ]
  },
  {
   "cell_type": "code",
   "execution_count": 23,
   "metadata": {},
   "outputs": [
    {
     "name": "stdout",
     "output_type": "stream",
     "text": [
      "vwxyz\n",
      "2\n",
      "3\n",
      "4\n",
      "-\n"
     ]
    }
   ],
   "source": [
    "decks = []\n",
    "while True:\n",
    "    s = input()\n",
    "    if s == \"-\":\n",
    "        break\n",
    "\n",
    "    deck = Deck(s)\n",
    "\n",
    "    m = int(input())\n",
    "\n",
    "    for i in range(m):\n",
    "        h = int(input())\n",
    "        deck.shuffle(h)\n",
    "\n",
    "    decks.append(deck)"
   ]
  },
  {
   "cell_type": "code",
   "execution_count": 24,
   "metadata": {},
   "outputs": [
    {
     "name": "stdout",
     "output_type": "stream",
     "text": [
      "xyzvw\n"
     ]
    }
   ],
   "source": [
    "for deck in decks:\n",
    "    print(deck.get_deck())"
   ]
  }
 ],
 "metadata": {
  "kernelspec": {
   "display_name": "Python 3",
   "language": "python",
   "name": "python3"
  },
  "language_info": {
   "codemirror_mode": {
    "name": "ipython",
    "version": 3
   },
   "file_extension": ".py",
   "mimetype": "text/x-python",
   "name": "python",
   "nbconvert_exporter": "python",
   "pygments_lexer": "ipython3",
   "version": "3.7.4"
  }
 },
 "nbformat": 4,
 "nbformat_minor": 2
}
