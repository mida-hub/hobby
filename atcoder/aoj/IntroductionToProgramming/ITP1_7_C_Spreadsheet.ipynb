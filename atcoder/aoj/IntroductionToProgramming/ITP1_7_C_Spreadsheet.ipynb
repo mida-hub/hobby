{
 "cells": [
  {
   "cell_type": "code",
   "execution_count": 1,
   "metadata": {},
   "outputs": [
    {
     "name": "stdout",
     "output_type": "stream",
     "text": [
      "4 5\n"
     ]
    }
   ],
   "source": [
    "r, c = map(int, input().split())"
   ]
  },
  {
   "cell_type": "code",
   "execution_count": 4,
   "metadata": {},
   "outputs": [
    {
     "name": "stdout",
     "output_type": "stream",
     "text": [
      "1 1 3 4 5\n",
      "2 2 2 4 5\n",
      "3 3 0 1 1\n",
      "2 3 4 4 6\n"
     ]
    }
   ],
   "source": [
    "dataset = []\n",
    "for i in range(r):\n",
    "     dataset.append(list(map(int, input().split())))"
   ]
  },
  {
   "cell_type": "code",
   "execution_count": 15,
   "metadata": {},
   "outputs": [],
   "source": [
    "for data in dataset:\n",
    "    data.append(sum(data))"
   ]
  },
  {
   "cell_type": "code",
   "execution_count": 21,
   "metadata": {},
   "outputs": [],
   "source": [
    "total_data = []\n",
    "for row in range(c+1):\n",
    "    total_data.append(sum([data[row] for data in dataset]))\n",
    "dataset.append(total_data)"
   ]
  },
  {
   "cell_type": "code",
   "execution_count": 25,
   "metadata": {},
   "outputs": [
    {
     "name": "stdout",
     "output_type": "stream",
     "text": [
      "1 1 3 4 5 14\n",
      "2 2 2 4 5 15\n",
      "3 3 0 1 1 8\n",
      "2 3 4 4 6 19\n",
      "8 9 9 13 17 56\n"
     ]
    }
   ],
   "source": [
    "for data in dataset:\n",
    "    print(\" \".join(map(str, data)))"
   ]
  }
 ],
 "metadata": {
  "kernelspec": {
   "display_name": "Python 3",
   "language": "python",
   "name": "python3"
  },
  "language_info": {
   "codemirror_mode": {
    "name": "ipython",
    "version": 3
   },
   "file_extension": ".py",
   "mimetype": "text/x-python",
   "name": "python",
   "nbconvert_exporter": "python",
   "pygments_lexer": "ipython3",
   "version": "3.7.4"
  }
 },
 "nbformat": 4,
 "nbformat_minor": 2
}
