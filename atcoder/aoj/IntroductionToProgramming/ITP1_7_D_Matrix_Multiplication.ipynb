{
 "cells": [
  {
   "cell_type": "code",
   "execution_count": 23,
   "metadata": {},
   "outputs": [
    {
     "name": "stdout",
     "output_type": "stream",
     "text": [
      "2 3 4\n"
     ]
    }
   ],
   "source": [
    "n, m, l = map(int, input().split())"
   ]
  },
  {
   "cell_type": "code",
   "execution_count": 24,
   "metadata": {},
   "outputs": [
    {
     "name": "stdout",
     "output_type": "stream",
     "text": [
      "1 2 3\n",
      "0 1 3\n"
     ]
    }
   ],
   "source": [
    "A = []\n",
    "for i in range(n):\n",
    "    A.append(list(map(int, input().split())))"
   ]
  },
  {
   "cell_type": "code",
   "execution_count": 25,
   "metadata": {},
   "outputs": [
    {
     "name": "stdout",
     "output_type": "stream",
     "text": [
      "1 2 3 4\n",
      "1 0 2 1\n",
      "1 0 3 2\n"
     ]
    }
   ],
   "source": [
    "B = []\n",
    "for i in range(m):\n",
    "    B.append(list(map(int, input().split())))"
   ]
  },
  {
   "cell_type": "code",
   "execution_count": 28,
   "metadata": {},
   "outputs": [],
   "source": [
    "C = []\n",
    "for i in range(n):\n",
    "    c = []\n",
    "    for j in range(l):\n",
    "        b_row = [b[j] for b in B]\n",
    "        c.append(sum([ a * b for a, b in zip(A[i], b_row)]))\n",
    "    C.append(c)"
   ]
  },
  {
   "cell_type": "code",
   "execution_count": 29,
   "metadata": {},
   "outputs": [
    {
     "name": "stdout",
     "output_type": "stream",
     "text": [
      "6 2 16 12\n",
      "4 0 11 7\n"
     ]
    }
   ],
   "source": [
    "for c in C:\n",
    "    print(\" \".join(map(str, c)))"
   ]
  }
 ],
 "metadata": {
  "kernelspec": {
   "display_name": "Python 3",
   "language": "python",
   "name": "python3"
  },
  "language_info": {
   "codemirror_mode": {
    "name": "ipython",
    "version": 3
   },
   "file_extension": ".py",
   "mimetype": "text/x-python",
   "name": "python",
   "nbconvert_exporter": "python",
   "pygments_lexer": "ipython3",
   "version": "3.7.4"
  }
 },
 "nbformat": 4,
 "nbformat_minor": 2
}
