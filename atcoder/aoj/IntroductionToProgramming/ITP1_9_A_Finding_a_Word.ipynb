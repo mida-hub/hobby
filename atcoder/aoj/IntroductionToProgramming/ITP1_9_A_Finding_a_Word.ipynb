{
 "cells": [
  {
   "cell_type": "code",
   "execution_count": 1,
   "metadata": {},
   "outputs": [
    {
     "name": "stdout",
     "output_type": "stream",
     "text": [
      "computer\n"
     ]
    }
   ],
   "source": [
    "w = input()"
   ]
  },
  {
   "cell_type": "code",
   "execution_count": 3,
   "metadata": {},
   "outputs": [
    {
     "name": "stdout",
     "output_type": "stream",
     "text": [
      "Nurtures computer scientists and highly-skilled computer engineers\n",
      "who will create and exploit \"knowledge\" for the new era.\n",
      "Provides an outstanding computer environment.\n",
      "END_OF_TEXT\n"
     ]
    }
   ],
   "source": [
    "t = []\n",
    "while True:\n",
    "    t0 = input()\n",
    "    if t0 == 'END_OF_TEXT':\n",
    "        break\n",
    "    t.append(t0)"
   ]
  },
  {
   "cell_type": "code",
   "execution_count": 27,
   "metadata": {},
   "outputs": [],
   "source": [
    "tt = []\n",
    "for s in t:\n",
    "    for s_sp in s.split():\n",
    "        tt.append(s_sp)"
   ]
  },
  {
   "cell_type": "code",
   "execution_count": 29,
   "metadata": {},
   "outputs": [],
   "source": [
    "count = 0\n",
    "for s in tt:\n",
    "    if w == s.lower(): count += 1"
   ]
  },
  {
   "cell_type": "code",
   "execution_count": 30,
   "metadata": {},
   "outputs": [
    {
     "name": "stdout",
     "output_type": "stream",
     "text": [
      "3\n"
     ]
    }
   ],
   "source": [
    "print(count)"
   ]
  }
 ],
 "metadata": {
  "kernelspec": {
   "display_name": "Python 3",
   "language": "python",
   "name": "python3"
  },
  "language_info": {
   "codemirror_mode": {
    "name": "ipython",
    "version": 3
   },
   "file_extension": ".py",
   "mimetype": "text/x-python",
   "name": "python",
   "nbconvert_exporter": "python",
   "pygments_lexer": "ipython3",
   "version": "3.7.4"
  }
 },
 "nbformat": 4,
 "nbformat_minor": 2
}
