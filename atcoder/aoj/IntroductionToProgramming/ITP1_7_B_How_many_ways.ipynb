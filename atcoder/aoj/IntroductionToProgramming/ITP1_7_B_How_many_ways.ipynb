{
 "cells": [
  {
   "cell_type": "code",
   "execution_count": 1,
   "metadata": {},
   "outputs": [],
   "source": [
    "import itertools"
   ]
  },
  {
   "cell_type": "code",
   "execution_count": 11,
   "metadata": {},
   "outputs": [
    {
     "name": "stdout",
     "output_type": "stream",
     "text": [
      "100 100\n",
      "100 200\n",
      "100 297\n",
      "0 0\n"
     ]
    }
   ],
   "source": [
    "n, x = -1, -1\n",
    "dataset = []\n",
    "\n",
    "while True:\n",
    "    n, x = map(int, input().split())\n",
    "    if n == x == 0:break\n",
    "    \n",
    "    dataset.append([n, x])"
   ]
  },
  {
   "cell_type": "code",
   "execution_count": 13,
   "metadata": {},
   "outputs": [
    {
     "name": "stdout",
     "output_type": "stream",
     "text": [
      "784\n",
      "833\n",
      "1\n"
     ]
    }
   ],
   "source": [
    "for data in dataset:\n",
    "    c = 0\n",
    "    arr = [x + 1 for x in range(data[0])]\n",
    "    for v in itertools.combinations(arr, 3):\n",
    "        if sum(v) == data[1]: c +=1\n",
    "    print(c)"
   ]
  }
 ],
 "metadata": {
  "kernelspec": {
   "display_name": "Python 3",
   "language": "python",
   "name": "python3"
  },
  "language_info": {
   "codemirror_mode": {
    "name": "ipython",
    "version": 3
   },
   "file_extension": ".py",
   "mimetype": "text/x-python",
   "name": "python",
   "nbconvert_exporter": "python",
   "pygments_lexer": "ipython3",
   "version": "3.7.4"
  }
 },
 "nbformat": 4,
 "nbformat_minor": 2
}
