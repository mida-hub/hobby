{
 "cells": [
  {
   "cell_type": "code",
   "execution_count": 2,
   "metadata": {},
   "outputs": [],
   "source": [
    "def input_preprocessing():\n",
    "    a, op, b = input().split()\n",
    "    a = int(a)\n",
    "    b = int(b)\n",
    "    return a, op, b"
   ]
  },
  {
   "cell_type": "code",
   "execution_count": 3,
   "metadata": {},
   "outputs": [
    {
     "name": "stdout",
     "output_type": "stream",
     "text": [
      "1 + 2\n",
      "56 - 18\n",
      "13 * 2\n",
      "100 / 10\n",
      "27 + 81\n",
      "0 ? 0\n"
     ]
    }
   ],
   "source": [
    "a = 0\n",
    "op = ''\n",
    "b = 0\n",
    "dataset = []\n",
    "while op != '?':\n",
    "    a, op, b = input_preprocessing()\n",
    "    dataset.append([a, op, b])"
   ]
  },
  {
   "cell_type": "code",
   "execution_count": 6,
   "metadata": {},
   "outputs": [],
   "source": [
    "def calc(a, op, b):\n",
    "    if op == '?': return\n",
    "    elif op == '+': return print(a+b)\n",
    "    elif op == '-': return print(a-b)\n",
    "    elif op == '*': return print(a*b)\n",
    "    elif op == '/': return print(a//b)\n",
    "    return"
   ]
  },
  {
   "cell_type": "code",
   "execution_count": 8,
   "metadata": {},
   "outputs": [
    {
     "name": "stdout",
     "output_type": "stream",
     "text": [
      "3\n",
      "38\n",
      "26\n",
      "10.0\n",
      "108\n"
     ]
    }
   ],
   "source": [
    "for data in dataset:\n",
    "    calc(data[0], data[1], data[2])"
   ]
  }
 ],
 "metadata": {
  "kernelspec": {
   "display_name": "Python 3",
   "language": "python",
   "name": "python3"
  },
  "language_info": {
   "codemirror_mode": {
    "name": "ipython",
    "version": 3
   },
   "file_extension": ".py",
   "mimetype": "text/x-python",
   "name": "python",
   "nbconvert_exporter": "python",
   "pygments_lexer": "ipython3",
   "version": "3.7.4"
  }
 },
 "nbformat": 4,
 "nbformat_minor": 2
}
