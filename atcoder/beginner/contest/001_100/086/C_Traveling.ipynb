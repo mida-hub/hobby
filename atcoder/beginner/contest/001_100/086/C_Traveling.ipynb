{
 "cells": [
  {
   "cell_type": "code",
   "execution_count": 21,
   "metadata": {},
   "outputs": [
    {
     "name": "stdout",
     "output_type": "stream",
     "text": [
      "2\n"
     ]
    }
   ],
   "source": [
    "n = int(input())"
   ]
  },
  {
   "cell_type": "code",
   "execution_count": 22,
   "metadata": {},
   "outputs": [],
   "source": [
    "t, x, y = [0], [0], [0]"
   ]
  },
  {
   "cell_type": "code",
   "execution_count": 23,
   "metadata": {},
   "outputs": [
    {
     "name": "stdout",
     "output_type": "stream",
     "text": [
      "5 1 1\n",
      "100 1 1\n"
     ]
    }
   ],
   "source": [
    "for i in range(n):\n",
    "    ti, xi, yi, = map(int, input().split())\n",
    "    t.append(ti)\n",
    "    x.append(xi)\n",
    "    y.append(yi)"
   ]
  },
  {
   "cell_type": "code",
   "execution_count": 24,
   "metadata": {},
   "outputs": [
    {
     "name": "stdout",
     "output_type": "stream",
     "text": [
      "No\n"
     ]
    }
   ],
   "source": [
    "is_can = True\n",
    "for i in range(len(t) - 1):\n",
    "    dt = t[i + 1] - t[i]\n",
    "    dist = abs(x[i + 1] - x[i]) + abs(y[i + 1] - y[i])\n",
    "    if dt < dist:\n",
    "        is_can = False\n",
    "        break\n",
    "    if(dt % 2 != dist % 2):\n",
    "        is_can = False\n",
    "        break\n",
    "if is_can:\n",
    "    print('Yes')\n",
    "else:\n",
    "    print('No')"
   ]
  }
 ],
 "metadata": {
  "kernelspec": {
   "display_name": "Python 3",
   "language": "python",
   "name": "python3"
  },
  "language_info": {
   "codemirror_mode": {
    "name": "ipython",
    "version": 3
   },
   "file_extension": ".py",
   "mimetype": "text/x-python",
   "name": "python",
   "nbconvert_exporter": "python",
   "pygments_lexer": "ipython3",
   "version": "3.7.4"
  }
 },
 "nbformat": 4,
 "nbformat_minor": 2
}
