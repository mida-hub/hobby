{
 "cells": [
  {
   "cell_type": "code",
   "execution_count": 66,
   "metadata": {},
   "outputs": [
    {
     "name": "stdout",
     "output_type": "stream",
     "text": [
      "dreamerer\n"
     ]
    }
   ],
   "source": [
    "s = input()"
   ]
  },
  {
   "cell_type": "code",
   "execution_count": 50,
   "metadata": {},
   "outputs": [],
   "source": [
    "divides = ['dream', 'dreamer', 'erase', 'eraser']"
   ]
  },
  {
   "cell_type": "code",
   "execution_count": 67,
   "metadata": {},
   "outputs": [
    {
     "name": "stdout",
     "output_type": "stream",
     "text": [
      "NO\n"
     ]
    }
   ],
   "source": [
    "s0 = s\n",
    "while len(s0) > 0:\n",
    "    is_divided = False\n",
    "    for divide in divides:\n",
    "        if len(s0) > 7 and s0[-len(divide):] == divide:\n",
    "            s0 = s0[:-len(divide)]\n",
    "            is_divided = True\n",
    "            break\n",
    "        elif s0 == divide:\n",
    "            s0 = ''\n",
    "            is_divided = True\n",
    "            break\n",
    "        \n",
    "    if not is_divided:\n",
    "        break\n",
    "\n",
    "if len(s0) > 0:\n",
    "    print('NO')\n",
    "else:\n",
    "    print('YES')"
   ]
  }
 ],
 "metadata": {
  "kernelspec": {
   "display_name": "Python 3",
   "language": "python",
   "name": "python3"
  },
  "language_info": {
   "codemirror_mode": {
    "name": "ipython",
    "version": 3
   },
   "file_extension": ".py",
   "mimetype": "text/x-python",
   "name": "python",
   "nbconvert_exporter": "python",
   "pygments_lexer": "ipython3",
   "version": "3.7.4"
  }
 },
 "nbformat": 4,
 "nbformat_minor": 2
}
