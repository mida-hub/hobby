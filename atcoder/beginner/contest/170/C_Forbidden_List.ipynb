{
 "cells": [
  {
   "cell_type": "code",
   "execution_count": 127,
   "metadata": {},
   "outputs": [
    {
     "name": "stdout",
     "output_type": "stream",
     "text": [
      "100 0\n"
     ]
    }
   ],
   "source": [
    "x, n = map(int, input().split())"
   ]
  },
  {
   "cell_type": "code",
   "execution_count": 128,
   "metadata": {},
   "outputs": [
    {
     "name": "stdout",
     "output_type": "stream",
     "text": [
      "100\n"
     ]
    }
   ],
   "source": [
    "if n == 0:\n",
    "    print(x)\n",
    "else:\n",
    "    pn = list(map(int, input().split()))\n",
    "    is_ex_list = [False for i in range(max(pn) + 1)]\n",
    "    for p in pn:\n",
    "        is_ex_list[p] = True\n",
    "    min_v = 101\n",
    "    min_f = 101\n",
    "    for i in range(-200, 201):\n",
    "        if len(is_ex_list) > i and i >= 0:\n",
    "            if not is_ex_list[i] and abs(x - i) < min_v:\n",
    "                min_f = i \n",
    "                min_v = abs(x - i)\n",
    "        elif abs(x - i) < min_v:\n",
    "                min_f = i \n",
    "                min_v = abs(x - i)\n",
    "    print(min_f)"
   ]
  }
 ],
 "metadata": {
  "kernelspec": {
   "display_name": "Python 3",
   "language": "python",
   "name": "python3"
  },
  "language_info": {
   "codemirror_mode": {
    "name": "ipython",
    "version": 3
   },
   "file_extension": ".py",
   "mimetype": "text/x-python",
   "name": "python",
   "nbconvert_exporter": "python",
   "pygments_lexer": "ipython3",
   "version": "3.7.4"
  }
 },
 "nbformat": 4,
 "nbformat_minor": 2
}
