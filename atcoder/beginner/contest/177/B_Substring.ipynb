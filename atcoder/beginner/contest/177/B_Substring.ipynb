{
 "cells": [
  {
   "cell_type": "code",
   "execution_count": 1,
   "metadata": {},
   "outputs": [
    {
     "name": "stdout",
     "output_type": "stream",
     "text": [
      "codeforces\n",
      "atcoder\n"
     ]
    }
   ],
   "source": [
    "s = input()\n",
    "t = input()"
   ]
  },
  {
   "cell_type": "code",
   "execution_count": 50,
   "metadata": {},
   "outputs": [
    {
     "name": "stdout",
     "output_type": "stream",
     "text": [
      "a\n",
      "t\n",
      "c\n",
      "o\n",
      "d\n",
      "e\n",
      "r\n",
      "a\n",
      "t\n",
      "c\n",
      "o\n",
      "d\n",
      "e\n",
      "r\n",
      "a\n",
      "t\n",
      "c\n",
      "o\n",
      "d\n",
      "e\n",
      "r\n",
      "a\n",
      "t\n",
      "c\n",
      "o\n",
      "d\n",
      "e\n",
      "r\n",
      "6\n"
     ]
    }
   ],
   "source": [
    "ans = len(t)\n",
    "for i in range(0, (len(s)-len(t)+1)):\n",
    "    diff = 0\n",
    "    for j in range(0, len(t)):\n",
    "        if t[j] == s[i+j]:\n",
    "            diff += 1\n",
    "    ans = min(ans, len(t)-diff)\n",
    "print(ans)"
   ]
  }
 ],
 "metadata": {
  "kernelspec": {
   "display_name": "Python 3",
   "language": "python",
   "name": "python3"
  },
  "language_info": {
   "codemirror_mode": {
    "name": "ipython",
    "version": 3
   },
   "file_extension": ".py",
   "mimetype": "text/x-python",
   "name": "python",
   "nbconvert_exporter": "python",
   "pygments_lexer": "ipython3",
   "version": "3.8.3"
  }
 },
 "nbformat": 4,
 "nbformat_minor": 4
}
