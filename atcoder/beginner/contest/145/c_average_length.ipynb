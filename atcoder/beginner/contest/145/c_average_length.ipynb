{
 "cells": [
  {
   "cell_type": "code",
   "execution_count": 3,
   "metadata": {},
   "outputs": [
    {
     "name": "stdout",
     "output_type": "stream",
     "text": [
      "8\n"
     ]
    }
   ],
   "source": [
    "N = int(input())"
   ]
  },
  {
   "cell_type": "code",
   "execution_count": 6,
   "metadata": {},
   "outputs": [
    {
     "name": "stdout",
     "output_type": "stream",
     "text": [
      "-406 10\n",
      "512 859\n",
      "494 362\n",
      "-955 -475\n",
      "128 553\n",
      "-986 -885\n",
      "763 77\n",
      "449 310\n"
     ]
    }
   ],
   "source": [
    "xy = []\n",
    "for i in range(N):\n",
    "    xy.append([int(x) for x in input().split()])"
   ]
  },
  {
   "cell_type": "code",
   "execution_count": 7,
   "metadata": {},
   "outputs": [],
   "source": [
    "def distance(xy, i, j):\n",
    "    return (\n",
    "              (xy[i][0] - xy[j][0]) ** 2\n",
    "            + (xy[i][1] - xy[j][1]) ** 2\n",
    "        ) ** 0.5"
   ]
  },
  {
   "cell_type": "code",
   "execution_count": 9,
   "metadata": {},
   "outputs": [],
   "source": [
    "import itertools\n",
    "d = []\n",
    "l1 = [x for x in range(N)]\n",
    "for v in itertools.permutations(l1, N):\n",
    "    l2 = list(v)\n",
    "    d0 = []\n",
    "    for c in range(N-1):\n",
    "        i = l2[c]\n",
    "        j = l2[c+1]\n",
    "        d0.append(distance(xy, i, j))\n",
    "    d.append(sum(d0))"
   ]
  },
  {
   "cell_type": "code",
   "execution_count": 10,
   "metadata": {},
   "outputs": [
    {
     "name": "stdout",
     "output_type": "stream",
     "text": [
      "7641.981782438662\n"
     ]
    }
   ],
   "source": [
    "print(sum(d) / len(d))"
   ]
  }
 ],
 "metadata": {
  "kernelspec": {
   "display_name": "Python 3",
   "language": "python",
   "name": "python3"
  },
  "language_info": {
   "codemirror_mode": {
    "name": "ipython",
    "version": 3
   },
   "file_extension": ".py",
   "mimetype": "text/x-python",
   "name": "python",
   "nbconvert_exporter": "python",
   "pygments_lexer": "ipython3",
   "version": "3.7.4"
  }
 },
 "nbformat": 4,
 "nbformat_minor": 2
}
