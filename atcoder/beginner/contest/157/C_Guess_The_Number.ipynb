{
 "cells": [
  {
   "cell_type": "code",
   "execution_count": 15,
   "metadata": {},
   "outputs": [
    {
     "name": "stdout",
     "output_type": "stream",
     "text": [
      "1 1\n",
      "1 0\n"
     ]
    }
   ],
   "source": [
    "n, m = map(int, input().split())\n",
    "scs = []\n",
    "for i in range(m):\n",
    "    scs.append(list(map(int, input().split())))"
   ]
  },
  {
   "cell_type": "code",
   "execution_count": 12,
   "metadata": {},
   "outputs": [],
   "source": [
    "def set_number(scs):\n",
    "    number = [-1] * n\n",
    "    for sc in scs:\n",
    "        if number[sc[0] - 1] == -1:\n",
    "            number[sc[0] - 1] = sc[1]\n",
    "        elif number[sc[0] - 1] != sc[1]:\n",
    "            return None\n",
    "    return number"
   ]
  },
  {
   "cell_type": "code",
   "execution_count": 13,
   "metadata": {},
   "outputs": [],
   "source": [
    "def guess_number(number):\n",
    "    if number is None:\n",
    "        return -1\n",
    "\n",
    "    if number[0] == 0 and n > 1:\n",
    "        return -1\n",
    "    \n",
    "    guess = 0\n",
    "    for i in range(n):\n",
    "        if i == 0 and  number[i] == -1 and n == 1:\n",
    "            return 0\n",
    "        elif i == 0 and  number[i] == -1:\n",
    "            guess += (10 ** (n - i - 1))\n",
    "        elif number[i] != -1:\n",
    "            guess += number[i] * (10 ** (n - i - 1))\n",
    "\n",
    "    return guess"
   ]
  },
  {
   "cell_type": "code",
   "execution_count": 16,
   "metadata": {},
   "outputs": [
    {
     "name": "stdout",
     "output_type": "stream",
     "text": [
      "0\n"
     ]
    }
   ],
   "source": [
    "number = set_number(scs)\n",
    "print(guess_number(number))"
   ]
  }
 ],
 "metadata": {
  "kernelspec": {
   "display_name": "Python 3",
   "language": "python",
   "name": "python3"
  },
  "language_info": {
   "codemirror_mode": {
    "name": "ipython",
    "version": 3
   },
   "file_extension": ".py",
   "mimetype": "text/x-python",
   "name": "python",
   "nbconvert_exporter": "python",
   "pygments_lexer": "ipython3",
   "version": "3.7.4"
  }
 },
 "nbformat": 4,
 "nbformat_minor": 2
}
