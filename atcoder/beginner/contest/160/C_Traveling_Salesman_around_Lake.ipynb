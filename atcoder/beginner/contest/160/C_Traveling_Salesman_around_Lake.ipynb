{
 "cells": [
  {
   "cell_type": "code",
   "execution_count": 1,
   "metadata": {},
   "outputs": [
    {
     "name": "stdout",
     "output_type": "stream",
     "text": [
      "20 3\n"
     ]
    }
   ],
   "source": [
    "k, n = map(int, input().split())"
   ]
  },
  {
   "cell_type": "code",
   "execution_count": 2,
   "metadata": {},
   "outputs": [
    {
     "name": "stdout",
     "output_type": "stream",
     "text": [
      "0 5 15\n"
     ]
    }
   ],
   "source": [
    "An = list(map(int, input().split()))"
   ]
  },
  {
   "cell_type": "code",
   "execution_count": 12,
   "metadata": {},
   "outputs": [
    {
     "name": "stdout",
     "output_type": "stream",
     "text": [
      "5\n",
      "15\n",
      "10\n",
      "15\n",
      "5\n",
      "10\n"
     ]
    }
   ],
   "source": [
    "mn = 0\n",
    "Amax = max(An)\n",
    "Amin = min(An)\n",
    "for i in range(len(An)):\n",
    "    cal = 0\n",
    "    A = An[i:]  + An[:i]\n",
    "    for i in range(len(A)-1):\n",
    "        if A[i] == Amax and A[i+1] == Amin:\n",
    "            cal += A[i+1] + k - A[i]\n",
    "        elif A[i] == Amin and A[i+1] == Amax:\n",
    "            cal += A[i] + k - A[i+1]\n",
    "        elif A[i+1] >= A[i]:\n",
    "            cal += A[i+1] - A[i]\n",
    "        else:\n",
    "            cal += A[i] - A[i+1]\n",
    "        \n",
    "        if mn > 0 and cal > mn:\n",
    "            break\n",
    "    \n",
    "    if mn ==0 or mn > cal:\n",
    "        mn = cal"
   ]
  },
  {
   "cell_type": "code",
   "execution_count": 14,
   "metadata": {},
   "outputs": [
    {
     "name": "stdout",
     "output_type": "stream",
     "text": [
      "10\n",
      "15\n",
      "5\n",
      "10\n",
      "5\n",
      "15\n",
      "10\n"
     ]
    }
   ],
   "source": [
    "rAn = An[:]\n",
    "rAn.reverse()\n",
    "for i in range(len(rAn)):\n",
    "    cal = 0\n",
    "    A = rAn[i:]  + rAn[:i]\n",
    "    for i in range(len(A)-1):\n",
    "        if A[i] == Amax and A[i+1] == Amin:\n",
    "            cal += A[i+1] + k - A[i]\n",
    "        elif A[i] == Amin and A[i+1] == Amax:\n",
    "            cal += A[i] + k - A[i+1]\n",
    "        elif A[i+1] >= A[i]:\n",
    "            cal += A[i+1] - A[i]\n",
    "        else:\n",
    "            cal += A[i] - A[i+1]\n",
    "            \n",
    "        if mn > 0 and cal > mn:\n",
    "            break\n",
    "\n",
    "    if mn ==0 or mn > cal:\n",
    "        mn = cal\n",
    "print(mn)"
   ]
  }
 ],
 "metadata": {
  "kernelspec": {
   "display_name": "Python 3",
   "language": "python",
   "name": "python3"
  },
  "language_info": {
   "codemirror_mode": {
    "name": "ipython",
    "version": 3
   },
   "file_extension": ".py",
   "mimetype": "text/x-python",
   "name": "python",
   "nbconvert_exporter": "python",
   "pygments_lexer": "ipython3",
   "version": "3.7.4"
  }
 },
 "nbformat": 4,
 "nbformat_minor": 2
}
