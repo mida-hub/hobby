{
 "cells": [
  {
   "cell_type": "code",
   "execution_count": 62,
   "metadata": {},
   "outputs": [
    {
     "name": "stdout",
     "output_type": "stream",
     "text": [
      "19 99\n"
     ]
    }
   ],
   "source": [
    "a, b = map(int, input().split())"
   ]
  },
  {
   "cell_type": "code",
   "execution_count": 68,
   "metadata": {},
   "outputs": [
    {
     "name": "stdout",
     "output_type": "stream",
     "text": [
      "-1\n"
     ]
    }
   ],
   "source": [
    "# -1 となるパターンをどうやって絞り込むのか\n",
    "\n",
    "a_tax = int(a / 0.08)\n",
    "b_tax = int(b / 0.1)\n",
    "n  = min([a_tax, b_tax])\n",
    "\n",
    "if b_tax / a_tax > 1.3 or b_tax / a_tax < 1.2:\n",
    "    n = -1\n",
    "else:\n",
    "    while True:\n",
    "        if a == int(n * 0.08) and b == int(n * 0.1):\n",
    "            break\n",
    "\n",
    "        n += 1\n",
    "\n",
    "print(n)"
   ]
  }
 ],
 "metadata": {
  "kernelspec": {
   "display_name": "Python 3",
   "language": "python",
   "name": "python3"
  },
  "language_info": {
   "codemirror_mode": {
    "name": "ipython",
    "version": 3
   },
   "file_extension": ".py",
   "mimetype": "text/x-python",
   "name": "python",
   "nbconvert_exporter": "python",
   "pygments_lexer": "ipython3",
   "version": "3.7.4"
  }
 },
 "nbformat": 4,
 "nbformat_minor": 2
}
