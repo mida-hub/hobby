{
 "cells": [
  {
   "cell_type": "code",
   "execution_count": 32,
   "metadata": {},
   "outputs": [
    {
     "name": "stdout",
     "output_type": "stream",
     "text": [
      "30\n"
     ]
    }
   ],
   "source": [
    "k = input()"
   ]
  },
  {
   "cell_type": "code",
   "execution_count": 33,
   "metadata": {},
   "outputs": [
    {
     "name": "stdout",
     "output_type": "stream",
     "text": [
      "78\n"
     ]
    }
   ],
   "source": [
    "lunlun = []\n",
    "count = 0\n",
    "lun = 1\n",
    "while count < int(k):\n",
    "    if lun < 10:\n",
    "        lunlun.append(lun)\n",
    "        count += 1\n",
    "    else:\n",
    "        tmp = list(str(lun))\n",
    "        for t in range(len(tmp) - 1):\n",
    "            if abs(int(tmp[t]) - int(tmp[t+1])) > 1:\n",
    "                break\n",
    "        else:\n",
    "            lunlun.append(lun)\n",
    "            count += 1\n",
    "    lun += 1\n",
    "\n",
    "print(lunlun[-1])"
   ]
  },
  {
   "cell_type": "code",
   "execution_count": null,
   "metadata": {},
   "outputs": [],
   "source": []
  }
 ],
 "metadata": {
  "kernelspec": {
   "display_name": "Python 3",
   "language": "python",
   "name": "python3"
  },
  "language_info": {
   "codemirror_mode": {
    "name": "ipython",
    "version": 3
   },
   "file_extension": ".py",
   "mimetype": "text/x-python",
   "name": "python",
   "nbconvert_exporter": "python",
   "pygments_lexer": "ipython3",
   "version": "3.7.4"
  }
 },
 "nbformat": 4,
 "nbformat_minor": 2
}
