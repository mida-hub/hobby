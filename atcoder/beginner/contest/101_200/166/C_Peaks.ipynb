{
 "cells": [
  {
   "cell_type": "code",
   "execution_count": 59,
   "metadata": {},
   "outputs": [
    {
     "name": "stdout",
     "output_type": "stream",
     "text": [
      "6 5\n"
     ]
    }
   ],
   "source": [
    "n, m = map(int, input().split())"
   ]
  },
  {
   "cell_type": "code",
   "execution_count": 60,
   "metadata": {},
   "outputs": [
    {
     "name": "stdout",
     "output_type": "stream",
     "text": [
      "8 6 9 1 2 1\n"
     ]
    }
   ],
   "source": [
    "h  = list(map(int, input().split()))"
   ]
  },
  {
   "cell_type": "code",
   "execution_count": 61,
   "metadata": {},
   "outputs": [],
   "source": [
    "ab = {}\n",
    "for i in range(n):\n",
    "    ab[i] = []"
   ]
  },
  {
   "cell_type": "code",
   "execution_count": 62,
   "metadata": {},
   "outputs": [
    {
     "name": "stdout",
     "output_type": "stream",
     "text": [
      "1 3\n",
      "4 2\n",
      "4 3\n",
      "4 6\n",
      "4 6\n"
     ]
    }
   ],
   "source": [
    "for i in range(m):\n",
    "    a, b = map(int, input().split())\n",
    "    ab[a-1].append(b-1)"
   ]
  },
  {
   "cell_type": "code",
   "execution_count": 63,
   "metadata": {},
   "outputs": [
    {
     "name": "stdout",
     "output_type": "stream",
     "text": [
      "0 2\n",
      "2 0\n",
      "3 1\n",
      "3 2\n",
      "3 5\n",
      "3 5\n",
      "5 3\n",
      "5 3\n"
     ]
    }
   ],
   "source": [
    "abab = ab.copy()\n",
    "for key, value in ab.items():\n",
    "    for v in value:\n",
    "        abab[v].append(key)"
   ]
  },
  {
   "cell_type": "code",
   "execution_count": 64,
   "metadata": {},
   "outputs": [
    {
     "name": "stdout",
     "output_type": "stream",
     "text": [
      "3\n"
     ]
    }
   ],
   "source": [
    "count = 0\n",
    "for i in range(len(abab)):\n",
    "    abab[i] = set(abab[i])\n",
    "    for j in abab[i]:\n",
    "        if h[i] <= h[j]:\n",
    "            break\n",
    "    else:\n",
    "        count+=1\n",
    "print(count)"
   ]
  }
 ],
 "metadata": {
  "kernelspec": {
   "display_name": "Python 3",
   "language": "python",
   "name": "python3"
  },
  "language_info": {
   "codemirror_mode": {
    "name": "ipython",
    "version": 3
   },
   "file_extension": ".py",
   "mimetype": "text/x-python",
   "name": "python",
   "nbconvert_exporter": "python",
   "pygments_lexer": "ipython3",
   "version": "3.7.4"
  }
 },
 "nbformat": 4,
 "nbformat_minor": 2
}
