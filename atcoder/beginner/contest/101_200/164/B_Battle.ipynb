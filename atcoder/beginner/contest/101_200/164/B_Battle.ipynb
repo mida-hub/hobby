{
 "cells": [
  {
   "cell_type": "code",
   "execution_count": 3,
   "metadata": {},
   "outputs": [
    {
     "name": "stdout",
     "output_type": "stream",
     "text": [
      "46 4 40 5\n"
     ]
    }
   ],
   "source": [
    "a, b, c, d = map(int, input().split())"
   ]
  },
  {
   "cell_type": "code",
   "execution_count": 4,
   "metadata": {},
   "outputs": [
    {
     "name": "stdout",
     "output_type": "stream",
     "text": [
      "Yes\n"
     ]
    }
   ],
   "source": [
    "while True:\n",
    "    c -= b\n",
    "    if c<= 0:\n",
    "        break\n",
    "    a -= d\n",
    "    if a<= 0:\n",
    "        break\n",
    "if c<= 0:\n",
    "    print('Yes')\n",
    "elif a<=0:\n",
    "    print('No')"
   ]
  }
 ],
 "metadata": {
  "kernelspec": {
   "display_name": "Python 3",
   "language": "python",
   "name": "python3"
  },
  "language_info": {
   "codemirror_mode": {
    "name": "ipython",
    "version": 3
   },
   "file_extension": ".py",
   "mimetype": "text/x-python",
   "name": "python",
   "nbconvert_exporter": "python",
   "pygments_lexer": "ipython3",
   "version": "3.7.4"
  }
 },
 "nbformat": 4,
 "nbformat_minor": 2
}
