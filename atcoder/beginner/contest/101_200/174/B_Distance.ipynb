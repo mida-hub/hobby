{
 "cells": [
  {
   "cell_type": "code",
   "execution_count": 17,
   "metadata": {},
   "outputs": [
    {
     "name": "stdout",
     "output_type": "stream",
     "text": [
      "20 100000\n"
     ]
    }
   ],
   "source": [
    "n, d = map(int, input().split())"
   ]
  },
  {
   "cell_type": "code",
   "execution_count": 18,
   "metadata": {},
   "outputs": [
    {
     "name": "stdout",
     "output_type": "stream",
     "text": [
      "14309 -32939\n",
      "-56855 100340\n",
      "151364 25430\n",
      "103789 -113141\n",
      "147404 -136977\n",
      "-37006 -30929\n",
      "188810 -49557\n",
      "13419 70401\n",
      "-88280 165170\n",
      "-196399 137941\n",
      "-176527 -61904\n",
      "46659 115261\n",
      "-153551 114185\n",
      "98784 -6820\n",
      "94111 -86268\n",
      "-30401 61477\n",
      "-55056 7872\n",
      "5901 -163796\n",
      "138819 -185986\n",
      "-69848 -96669\n"
     ]
    }
   ],
   "source": [
    "xy = []\n",
    "for i in range(n):\n",
    "    x, y = map(int, input().split())\n",
    "    xy.append([x, y])"
   ]
  },
  {
   "cell_type": "code",
   "execution_count": 19,
   "metadata": {},
   "outputs": [
    {
     "name": "stdout",
     "output_type": "stream",
     "text": [
      "6\n"
     ]
    }
   ],
   "source": [
    "count = 0\n",
    "for pq in xy:\n",
    "    if (pq[0]**2 + pq[1]**2) <= d**2:\n",
    "        count+=1\n",
    "print(count)"
   ]
  }
 ],
 "metadata": {
  "kernelspec": {
   "display_name": "Python 3",
   "language": "python",
   "name": "python3"
  },
  "language_info": {
   "codemirror_mode": {
    "name": "ipython",
    "version": 3
   },
   "file_extension": ".py",
   "mimetype": "text/x-python",
   "name": "python",
   "nbconvert_exporter": "python",
   "pygments_lexer": "ipython3",
   "version": "3.8.3"
  }
 },
 "nbformat": 4,
 "nbformat_minor": 4
}
