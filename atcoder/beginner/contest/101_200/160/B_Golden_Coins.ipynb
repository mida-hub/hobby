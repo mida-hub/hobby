{
 "cells": [
  {
   "cell_type": "code",
   "execution_count": 32,
   "metadata": {},
   "outputs": [],
   "source": [
    "c2u = {\n",
    "    500: 1000,\n",
    "    100: 0,\n",
    "    50: 0,\n",
    "    10: 0,\n",
    "    5: 5,\n",
    "    1: 0\n",
    "}"
   ]
  },
  {
   "cell_type": "code",
   "execution_count": 38,
   "metadata": {},
   "outputs": [
    {
     "name": "stdout",
     "output_type": "stream",
     "text": [
      "1000000000\n"
     ]
    }
   ],
   "source": [
    "X = int(input())"
   ]
  },
  {
   "cell_type": "code",
   "execution_count": 39,
   "metadata": {},
   "outputs": [],
   "source": [
    "X0 = X\n",
    "coin = {}\n",
    "if X0 // 500 > 0:\n",
    "    coin[500]  = X0 // 500\n",
    "    X0 -= 500 * coin[500]\n",
    "if X0 // 5 > 0:\n",
    "    coin[5]  = X0 // 5\n",
    "    X0 -= 5 * coin[5]\n",
    "if X0 // 100 > 0:\n",
    "    coin[100]  = X0 // 100\n",
    "    X0 -= 100 * coin[100]\n",
    "if X0 // 50 > 0:\n",
    "    coin[50]  = X0 // 50\n",
    "    X0 -= 50 * coin[50]\n",
    "if X0 // 10 > 0:\n",
    "    coin[10]  = X0 // 10\n",
    "    X0 -= 10 * coin[10]\n",
    "coin[1] = X0"
   ]
  },
  {
   "cell_type": "code",
   "execution_count": 40,
   "metadata": {},
   "outputs": [
    {
     "name": "stdout",
     "output_type": "stream",
     "text": [
      "2000000000\n"
     ]
    }
   ],
   "source": [
    "u = 0\n",
    "for k, v in coin.items():\n",
    "    u += c2u[k] * v\n",
    "print(u)"
   ]
  }
 ],
 "metadata": {
  "kernelspec": {
   "display_name": "Python 3",
   "language": "python",
   "name": "python3"
  },
  "language_info": {
   "codemirror_mode": {
    "name": "ipython",
    "version": 3
   },
   "file_extension": ".py",
   "mimetype": "text/x-python",
   "name": "python",
   "nbconvert_exporter": "python",
   "pygments_lexer": "ipython3",
   "version": "3.7.4"
  }
 },
 "nbformat": 4,
 "nbformat_minor": 2
}
