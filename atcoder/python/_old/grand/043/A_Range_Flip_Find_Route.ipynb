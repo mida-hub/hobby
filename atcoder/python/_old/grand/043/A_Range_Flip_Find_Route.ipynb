{
 "cells": [
  {
   "cell_type": "code",
   "execution_count": 154,
   "metadata": {},
   "outputs": [],
   "source": [
    "import itertools"
   ]
  },
  {
   "cell_type": "code",
   "execution_count": 168,
   "metadata": {},
   "outputs": [
    {
     "name": "stdout",
     "output_type": "stream",
     "text": [
      "5 5\n"
     ]
    }
   ],
   "source": [
    "h, w = map(int, input().split())"
   ]
  },
  {
   "cell_type": "code",
   "execution_count": 169,
   "metadata": {},
   "outputs": [
    {
     "name": "stdout",
     "output_type": "stream",
     "text": [
      ".#.#.\n",
      "#.#.#\n",
      ".#.#.\n",
      "#.#.#\n",
      ".#.#.\n"
     ]
    }
   ],
   "source": [
    "HW = []\n",
    "for i in range(h):\n",
    "    HW.append(input())"
   ]
  },
  {
   "cell_type": "code",
   "execution_count": 170,
   "metadata": {},
   "outputs": [
    {
     "data": {
      "text/plain": [
       "[0, 0]"
      ]
     },
     "execution_count": 170,
     "metadata": {},
     "output_type": "execute_result"
    }
   ],
   "source": [
    "roots = []\n",
    "for i in range(h):\n",
    "    for j in range(w):\n",
    "        roots.append([i, j])\n",
    "roots.pop(0)"
   ]
  },
  {
   "cell_type": "code",
   "execution_count": 171,
   "metadata": {},
   "outputs": [],
   "source": [
    "search_root = []\n",
    "for vv in itertools.combinations(roots, (h - 1) + (w - 1)):\n",
    "    # 一番目が初期値以外はスキップ\n",
    "    if not(vv[0] == [0, 1] or vv[0] == [1, 0]): continue\n",
    "    # 最後が最終値以外はスキップ\n",
    "    if not(vv[-1] == [h -1, w - 1]): continue\n",
    "    tmp = []\n",
    "    for v in vv:\n",
    "        if tmp == []:\n",
    "            tmp.append(v)\n",
    "        else:\n",
    "            # 右か下に移動するルート以外ばスキップ\n",
    "            if not(tmp[-1][0] == v[0] and tmp[-1][1] + 1 == v[1] \\\n",
    "                or tmp[-1][0] + 1 == v[0] and tmp[-1][1] == v[1]\n",
    "                ): break\n",
    "            tmp.append(v)\n",
    "    if len(tmp) == ((h - 1) + (w - 1)):\n",
    "        tmp.insert(0, [0, 0])\n",
    "        search_root.append(tmp)"
   ]
  },
  {
   "cell_type": "code",
   "execution_count": 172,
   "metadata": {},
   "outputs": [],
   "source": [
    "search_count = []\n",
    "for root in search_root:\n",
    "    count = 0\n",
    "    is_break = False\n",
    "    for point in root:\n",
    "        r, c = point[0], point[1]\n",
    "        if HW[r][c] == \"#\":\n",
    "            count += 1\n",
    "            if search_count:\n",
    "                if min(search_count) < count:\n",
    "                    is_break = True\n",
    "                    break\n",
    "    if not is_break: search_count.append(count)"
   ]
  },
  {
   "cell_type": "code",
   "execution_count": 173,
   "metadata": {},
   "outputs": [
    {
     "name": "stdout",
     "output_type": "stream",
     "text": [
      "4\n"
     ]
    }
   ],
   "source": [
    "print(min(search_count))"
   ]
  },
  {
   "cell_type": "code",
   "execution_count": 174,
   "metadata": {},
   "outputs": [],
   "source": [
    "import bisect\n",
    "a = [1, 2, 3, 5, 6, 7, 8, 9]\n",
    "b=bisect.bisect_left(a, 8)"
   ]
  },
  {
   "cell_type": "code",
   "execution_count": 175,
   "metadata": {},
   "outputs": [
    {
     "data": {
      "text/plain": [
       "6"
      ]
     },
     "execution_count": 175,
     "metadata": {},
     "output_type": "execute_result"
    }
   ],
   "source": [
    "b"
   ]
  }
 ],
 "metadata": {
  "kernelspec": {
   "display_name": "Python 3",
   "language": "python",
   "name": "python3"
  },
  "language_info": {
   "codemirror_mode": {
    "name": "ipython",
    "version": 3
   },
   "file_extension": ".py",
   "mimetype": "text/x-python",
   "name": "python",
   "nbconvert_exporter": "python",
   "pygments_lexer": "ipython3",
   "version": "3.7.4"
  }
 },
 "nbformat": 4,
 "nbformat_minor": 2
}
