{
 "cells": [
  {
   "cell_type": "code",
   "execution_count": 60,
   "metadata": {},
   "outputs": [],
   "source": [
    "def get_operation_list(n):\n",
    "    operation_list = []\n",
    "    for i in range(2 ** n):\n",
    "        operation = []\n",
    "        for j in range(n):\n",
    "            if ((i >> j) & 1):  # 順に右にシフトさせ最下位bitのチェックを行う\n",
    "                operation.append(True)\n",
    "            else:\n",
    "                operation.append(False)\n",
    "        operation_list.append(operation)\n",
    "    operation_list = sorted(operation_list, reverse=True)\n",
    "    return operation_list"
   ]
  },
  {
   "cell_type": "code",
   "execution_count": 65,
   "metadata": {},
   "outputs": [],
   "source": [
    "def get_pre_last(s):\n",
    "    last_idx_s0 = [i for i, x in enumerate(s) if x == '0'][-1]\n",
    "    last_idx_s1 = [i for i, x in enumerate(s) if x == '1'][-1]\n",
    "    if last_idx_s0 < last_idx_s1:\n",
    "        pre_last_idx = last_idx_s0\n",
    "        pre_last_player = 's0'\n",
    "    else:\n",
    "        pre_last_idx = last_idx_s1\n",
    "        pre_last_player = 's1'\n",
    "    \n",
    "    return pre_last_idx, pre_last_player"
   ]
  },
  {
   "cell_type": "code",
   "execution_count": 78,
   "metadata": {},
   "outputs": [],
   "source": [
    "def get_x_list(operation_list, pre_last_player, pre_last_idx):\n",
    "    x_list = []\n",
    "    for operation in operation_list:\n",
    "        x = 0\n",
    "        for i, ope in enumerate(operation):\n",
    "            if ope:\n",
    "                x = x ^ an[i]\n",
    "            # s0の最後のアクションで0以外(=最適な行動でないもの)は除外\n",
    "            if pre_last_player == 's0' and pre_last_idx == i and x != 0:\n",
    "                x = -1\n",
    "                break\n",
    "            # s1の最後のアクションで0(=最適な行動でないもの)は除外\n",
    "            if pre_last_player == 's1' and pre_last_idx == i and x == 0:\n",
    "                x = -1\n",
    "                break\n",
    "        if x != -1:\n",
    "            x_list.append([operation, x])\n",
    "    return x_list"
   ]
  },
  {
   "cell_type": "code",
   "execution_count": 95,
   "metadata": {},
   "outputs": [],
   "source": [
    "def get_check_list(pre_last_player, x_list):\n",
    "    pre = -1\n",
    "    if pre_last_player == 's0':\n",
    "        lose_xor = 1\n",
    "    if pre_last_player == 's1' :\n",
    "        lose_xor = 0\n",
    "\n",
    "    pre_group = -1\n",
    "    check_list = {}\n",
    "    for x in x_list:\n",
    "        group = x[2]\n",
    "\n",
    "        if pre_group == -1:\n",
    "            is_lose = False\n",
    "        elif pre_group != group:\n",
    "            check_list[group] = is_lose\n",
    "            is_lose = False\n",
    "\n",
    "        if x[1] == lose_xor:\n",
    "            is_lose = True\n",
    "        pre_group = group\n",
    "    else:\n",
    "        check_list[group] = is_lose\n",
    "\n",
    "    return check_list"
   ]
  },
  {
   "cell_type": "code",
   "execution_count": 97,
   "metadata": {},
   "outputs": [
    {
     "name": "stdout",
     "output_type": "stream",
     "text": [
      "3\n",
      "2\n",
      "1 2\n",
      "10\n",
      "2\n",
      "1 1\n",
      "10\n",
      "6\n",
      "2 3 4 5 6 7\n",
      "111000\n",
      "1\n",
      "0\n",
      "0\n"
     ]
    }
   ],
   "source": [
    "t = int(input())\n",
    "\n",
    "result_list = []\n",
    "\n",
    "for tn in range(t):\n",
    "    n = int(input())\n",
    "    an = list(map(int, input().split()))\n",
    "    s = input()\n",
    "\n",
    "    operation_list = get_operation_list(n)    \n",
    "    pre_last_idx, pre_last_player = get_pre_last(s)\n",
    "    x_list = get_x_list(operation_list, pre_last_player, pre_last_idx)\n",
    "    for x in x_list:\n",
    "        x.append(''.join(map(str, x[0][:pre_last_idx+1])))\n",
    "    check_list = get_check_list(pre_last_player, x_list)\n",
    "\n",
    "    if (len(check_list) == sum(check_list.values())) and pre_last_player == 's0':\n",
    "        result_list.append(1)\n",
    "    elif (len(check_list) != sum(check_list.values())) and pre_last_player == 's0':\n",
    "        result_list.append(0)\n",
    "    elif (len(check_list) == sum(check_list.values())) and pre_last_player == 's1':\n",
    "        result_list.append(0)\n",
    "    elif (len(check_list) != sum(check_list.values())) and pre_last_player == 's1':\n",
    "        result_list.append(1)\n",
    "\n",
    "for result in result_list:\n",
    "    print(result)"
   ]
  }
 ],
 "metadata": {
  "kernelspec": {
   "display_name": "Python 3",
   "language": "python",
   "name": "python3"
  },
  "language_info": {
   "codemirror_mode": {
    "name": "ipython",
    "version": 3
   },
   "file_extension": ".py",
   "mimetype": "text/x-python",
   "name": "python",
   "nbconvert_exporter": "python",
   "pygments_lexer": "ipython3",
   "version": "3.7.4"
  }
 },
 "nbformat": 4,
 "nbformat_minor": 2
}
