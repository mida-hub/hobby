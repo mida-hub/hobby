{
 "cells": [
  {
   "cell_type": "code",
   "execution_count": 29,
   "metadata": {},
   "outputs": [
    {
     "name": "stdout",
     "output_type": "stream",
     "text": [
      "2\n"
     ]
    }
   ],
   "source": [
    "n = int(input())"
   ]
  },
  {
   "cell_type": "code",
   "execution_count": 30,
   "metadata": {},
   "outputs": [
    {
     "name": "stdout",
     "output_type": "stream",
     "text": [
      "1\n",
      "2 0\n",
      "1\n",
      "1 0\n"
     ]
    }
   ],
   "source": [
    "XY = []\n",
    "for i in range(n):\n",
    "    a = int(input())\n",
    "    xy = []\n",
    "    for j in range(a):\n",
    "        xy.append(list(map(int, input().split())))\n",
    "    \n",
    "    XY.append(xy)"
   ]
  },
  {
   "cell_type": "code",
   "execution_count": 24,
   "metadata": {},
   "outputs": [],
   "source": [
    "\"\"\"\n",
    "    矛盾したらFalse\n",
    "    矛盾しなければTrue\n",
    "    正直者と仮定した者の証言\n",
    "        正直&正直者と仮定されている\n",
    "        不親切&不親切と仮定されている\n",
    "\"\"\"\n",
    "def check(i, xiyj, HoU):\n",
    "    # XOR\n",
    "    if HoU ^ ((i >> xiyj) & 1):\n",
    "        return False\n",
    "\n",
    "    return True"
   ]
  },
  {
   "cell_type": "code",
   "execution_count": 31,
   "metadata": {},
   "outputs": [
    {
     "name": "stdout",
     "output_type": "stream",
     "text": [
      "1\n"
     ]
    }
   ],
   "source": [
    "max_honest = 0\n",
    "for i in range(2 ** len(XY)):\n",
    "    count = 0\n",
    "    is_integrity = True\n",
    "    for j in range(len(XY)):\n",
    "        # 正直者と仮定したときだけ採用\n",
    "        if not ((i >> j) & 1): continue\n",
    "        count += 1\n",
    "        for k in range(len(XY[j])):\n",
    "            xiyj = XY[j][k][0] - 1\n",
    "            HoU = XY[j][k][1]\n",
    "            \n",
    "            if not check(i, xiyj, HoU):\n",
    "                is_integrity = False\n",
    "                break # TLE対策\n",
    "                \n",
    "        if not is_integrity:\n",
    "            break # TLE対策\n",
    "\n",
    "    # 矛盾がなく、正直者の数が更新できれば更新\n",
    "    if is_integrity and (count > max_honest):\n",
    "        max_honest =count\n",
    "            \n",
    "print(max_honest)"
   ]
  }
 ],
 "metadata": {
  "kernelspec": {
   "display_name": "Python 3",
   "language": "python",
   "name": "python3"
  },
  "language_info": {
   "codemirror_mode": {
    "name": "ipython",
    "version": 3
   },
   "file_extension": ".py",
   "mimetype": "text/x-python",
   "name": "python",
   "nbconvert_exporter": "python",
   "pygments_lexer": "ipython3",
   "version": "3.7.4"
  }
 },
 "nbformat": 4,
 "nbformat_minor": 2
}
