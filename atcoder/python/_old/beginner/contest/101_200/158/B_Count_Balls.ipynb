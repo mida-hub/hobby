{
 "cells": [
  {
   "cell_type": "code",
   "execution_count": 22,
   "metadata": {},
   "outputs": [
    {
     "name": "stdout",
     "output_type": "stream",
     "text": [
      "67013666370410581 4649201842078715 13144916498795451\n"
     ]
    }
   ],
   "source": [
    "n, a, b = map(int, input().split())"
   ]
  },
  {
   "cell_type": "code",
   "execution_count": 39,
   "metadata": {},
   "outputs": [
    {
     "name": "stdout",
     "output_type": "stream",
     "text": [
      "18596807368314860\n"
     ]
    }
   ],
   "source": [
    "n_div_ab = n // (a+b)\n",
    "n_mod_ab = n % (a+b)\n",
    "if a == 0:\n",
    "    res = 0\n",
    "elif n_mod_ab // a > 0:\n",
    "    res = a\n",
    "else:\n",
    "    res = n_mod_ab\n",
    "\n",
    "print(n_div_ab * a + res)"
   ]
  }
 ],
 "metadata": {
  "kernelspec": {
   "display_name": "Python 3",
   "language": "python",
   "name": "python3"
  },
  "language_info": {
   "codemirror_mode": {
    "name": "ipython",
    "version": 3
   },
   "file_extension": ".py",
   "mimetype": "text/x-python",
   "name": "python",
   "nbconvert_exporter": "python",
   "pygments_lexer": "ipython3",
   "version": "3.7.4"
  }
 },
 "nbformat": 4,
 "nbformat_minor": 2
}
