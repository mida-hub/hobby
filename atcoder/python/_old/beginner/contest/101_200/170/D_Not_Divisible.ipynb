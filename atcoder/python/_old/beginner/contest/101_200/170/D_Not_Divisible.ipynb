{
 "cells": [
  {
   "cell_type": "code",
   "execution_count": 44,
   "metadata": {},
   "outputs": [],
   "source": [
    "import math\n",
    "\n",
    "def is_prime(n):\n",
    "    if n == 1: return False\n",
    "\n",
    "    for k in range(2, int(math.sqrt(n)) + 1):\n",
    "        if n % k == 0:\n",
    "            return False\n",
    "\n",
    "    return True\n",
    "\n",
    "def factorization(n):\n",
    "    arr = []\n",
    "    temp = n\n",
    "    for i in range(2, int(-(-n**0.5//1))+1):\n",
    "        if temp%i==0:\n",
    "            cnt=0\n",
    "            while temp%i==0:\n",
    "                cnt+=1\n",
    "                temp //= i\n",
    "            arr.append([i, cnt])\n",
    "\n",
    "    if temp!=1:\n",
    "        arr.append([temp, 1])\n",
    "\n",
    "    if arr==[]:\n",
    "        arr.append([n, 1])\n",
    "\n",
    "    return arr"
   ]
  },
  {
   "cell_type": "code",
   "execution_count": 63,
   "metadata": {},
   "outputs": [
    {
     "name": "stdout",
     "output_type": "stream",
     "text": [
      "10\n",
      "33 18 45 28 8 19 89 86 2 4\n"
     ]
    }
   ],
   "source": [
    "n = int(input())\n",
    "an = list(map(int, input().split()))\n",
    "an = sorted(an)"
   ]
  },
  {
   "cell_type": "code",
   "execution_count": 73,
   "metadata": {},
   "outputs": [
    {
     "name": "stdout",
     "output_type": "stream",
     "text": [
      "5\n"
     ]
    }
   ],
   "source": [
    "count = 0\n",
    "for i, ai in enumerate(an):\n",
    "    if is_prime(ai) and an.count(ai) == 1:\n",
    "        count+=1\n",
    "    elif an.count(ai) == 1:\n",
    "#         print(ai)\n",
    "        factor = factorization(ai)\n",
    "#         print(factor)\n",
    "        for fn in factor:\n",
    "            mat = 1\n",
    "            is_factor = False\n",
    "            for f in range(1, fn[1] + 1):\n",
    "                mat = mat * fn[0]\n",
    "#                 print(f'mat={mat}')\n",
    "                if an.count(mat) >= 1 and mat != ai:\n",
    "                    is_factor = True\n",
    "                    break\n",
    "            if is_factor:break\n",
    "        if not is_factor:\n",
    "            count+=1\n",
    "print(count)"
   ]
  },
  {
   "cell_type": "code",
   "execution_count": 65,
   "metadata": {},
   "outputs": [
    {
     "data": {
      "text/plain": [
       "[2, 4, 8, 18, 19, 28, 33, 45, 86, 89]"
      ]
     },
     "execution_count": 65,
     "metadata": {},
     "output_type": "execute_result"
    }
   ],
   "source": [
    "an"
   ]
  }
 ],
 "metadata": {
  "kernelspec": {
   "display_name": "Python 3",
   "language": "python",
   "name": "python3"
  },
  "language_info": {
   "codemirror_mode": {
    "name": "ipython",
    "version": 3
   },
   "file_extension": ".py",
   "mimetype": "text/x-python",
   "name": "python",
   "nbconvert_exporter": "python",
   "pygments_lexer": "ipython3",
   "version": "3.7.4"
  }
 },
 "nbformat": 4,
 "nbformat_minor": 2
}
