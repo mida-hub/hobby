{
 "cells": [
  {
   "cell_type": "code",
   "execution_count": 1,
   "metadata": {},
   "outputs": [
    {
     "name": "stdout",
     "output_type": "stream",
     "text": [
      "４\n",
      "141421356 17320508 22360679 244949\n"
     ]
    }
   ],
   "source": [
    "m = 10**9 + 7\n",
    "n = int(input())\n",
    "an = list(map(int, input().split()))"
   ]
  },
  {
   "cell_type": "code",
   "execution_count": 35,
   "metadata": {},
   "outputs": [],
   "source": [
    "wa = []\n",
    "total = 0\n",
    "for i in reversed(range(1, len(an))):\n",
    "    total = total + an[i]\n",
    "    wa.append(total)\n",
    "wa = sorted(wa, reverse=True)"
   ]
  },
  {
   "cell_type": "code",
   "execution_count": 40,
   "metadata": {},
   "outputs": [
    {
     "name": "stdout",
     "output_type": "stream",
     "text": [
      "437235829\n"
     ]
    }
   ],
   "source": [
    "ans = 0\n",
    "for i in range(0, n-1):\n",
    "#     print(an[i] * wa[i])\n",
    "    ans = ans + an[i] * (wa[i]%m)\n",
    "    ans = ans % m\n",
    "print(ans)"
   ]
  }
 ],
 "metadata": {
  "kernelspec": {
   "display_name": "Python 3",
   "language": "python",
   "name": "python3"
  },
  "language_info": {
   "codemirror_mode": {
    "name": "ipython",
    "version": 3
   },
   "file_extension": ".py",
   "mimetype": "text/x-python",
   "name": "python",
   "nbconvert_exporter": "python",
   "pygments_lexer": "ipython3",
   "version": "3.8.3"
  }
 },
 "nbformat": 4,
 "nbformat_minor": 4
}
