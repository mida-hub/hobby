{
 "cells": [
  {
   "cell_type": "code",
   "execution_count": 7,
   "metadata": {},
   "outputs": [],
   "source": [
    "bingo = [\n",
    "    [0, 0, 0],\n",
    "    [0, 0, 0],\n",
    "    [0, 0, 0]\n",
    "]"
   ]
  },
  {
   "cell_type": "code",
   "execution_count": 3,
   "metadata": {},
   "outputs": [
    {
     "name": "stdout",
     "output_type": "stream",
     "text": [
      "84 97 66\n",
      "79 89 11\n",
      "61 59 7\n"
     ]
    }
   ],
   "source": [
    "A = []\n",
    "A.append(list(map(int, input().split())))\n",
    "A.append(list(map(int, input().split())))\n",
    "A.append(list(map(int, input().split())))"
   ]
  },
  {
   "cell_type": "code",
   "execution_count": 5,
   "metadata": {},
   "outputs": [
    {
     "name": "stdout",
     "output_type": "stream",
     "text": [
      "7\n"
     ]
    }
   ],
   "source": [
    "N = int(input())"
   ]
  },
  {
   "cell_type": "code",
   "execution_count": 6,
   "metadata": {},
   "outputs": [
    {
     "name": "stdout",
     "output_type": "stream",
     "text": [
      "89\n",
      "7\n",
      "87\n",
      "79\n",
      "24\n",
      "84\n",
      "30\n"
     ]
    }
   ],
   "source": [
    "B = []\n",
    "for i in range(N):\n",
    "    B.append(int(input()))"
   ]
  },
  {
   "cell_type": "code",
   "execution_count": 16,
   "metadata": {},
   "outputs": [],
   "source": [
    "for b in B:\n",
    "    for i, ai in enumerate(A):\n",
    "        for j, aij in enumerate(ai):\n",
    "            if b == aij:\n",
    "                bingo[i][j] = 1\n",
    "                break"
   ]
  },
  {
   "cell_type": "code",
   "execution_count": 18,
   "metadata": {},
   "outputs": [
    {
     "name": "stdout",
     "output_type": "stream",
     "text": [
      "Yes\n"
     ]
    }
   ],
   "source": [
    "if bingo[0][0] == bingo[0][1] == bingo[0][2] == 1:\n",
    "    print('Yes')\n",
    "elif bingo[1][0] == bingo[1][1] == bingo[1][2] == 1:\n",
    "    print('Yes')\n",
    "elif bingo[2][0] == bingo[2][1] == bingo[2][2] == 1:\n",
    "    print('Yes')\n",
    "elif bingo[0][0] == bingo[1][0] == bingo[2][0] == 1:\n",
    "    print('Yes')\n",
    "elif bingo[0][1] == bingo[1][1] == bingo[2][1] == 1:\n",
    "    print('Yes')\n",
    "elif bingo[0][2] == bingo[1][2] == bingo[2][2] == 1:\n",
    "    print('Yes')\n",
    "elif bingo[0][0] == bingo[1][1] == bingo[2][2] == 1:\n",
    "    print('Yes')\n",
    "elif bingo[0][2] == bingo[1][1] == bingo[2][0] == 1:\n",
    "    print('Yes')\n",
    "else:\n",
    "    print('No')"
   ]
  },
  {
   "cell_type": "code",
   "execution_count": null,
   "metadata": {},
   "outputs": [],
   "source": []
  }
 ],
 "metadata": {
  "kernelspec": {
   "display_name": "Python 3",
   "language": "python",
   "name": "python3"
  },
  "language_info": {
   "codemirror_mode": {
    "name": "ipython",
    "version": 3
   },
   "file_extension": ".py",
   "mimetype": "text/x-python",
   "name": "python",
   "nbconvert_exporter": "python",
   "pygments_lexer": "ipython3",
   "version": "3.7.4"
  }
 },
 "nbformat": 4,
 "nbformat_minor": 2
}
