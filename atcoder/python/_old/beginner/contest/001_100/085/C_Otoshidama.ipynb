{
 "cells": [
  {
   "cell_type": "code",
   "execution_count": 131,
   "metadata": {},
   "outputs": [
    {
     "name": "stdout",
     "output_type": "stream",
     "text": [
      "1000 1234000\n"
     ]
    }
   ],
   "source": [
    "n, y = map(int, input().split())"
   ]
  },
  {
   "cell_type": "code",
   "execution_count": 135,
   "metadata": {},
   "outputs": [],
   "source": [
    "m10 = y // 10000\n",
    "\n",
    "if m10 > n:\n",
    "    m10 = n\n",
    "\n",
    "y0 = y - 10000 * m10"
   ]
  },
  {
   "cell_type": "code",
   "execution_count": 134,
   "metadata": {},
   "outputs": [],
   "source": [
    "def calc(y, n, m10):\n",
    "    for m5 in range(n + 1):\n",
    "        m1 = n - m10 - m5\n",
    "        if m1 < 0: break\n",
    "        if y == (5000 * m5 + 1000 * m1) \\\n",
    "            and n == m10 + m5 + m1:\n",
    "            return m5, m1\n",
    "    return -1, -1"
   ]
  },
  {
   "cell_type": "code",
   "execution_count": 136,
   "metadata": {},
   "outputs": [
    {
     "name": "stdout",
     "output_type": "stream",
     "text": [
      "26 0 974\n"
     ]
    }
   ],
   "source": [
    "while m10 >= 0:\n",
    "    m5, m1 = calc(y0, n, m10)\n",
    "    if m5 == m1 == -1:\n",
    "        m10 -= 1\n",
    "        y0 += 10000\n",
    "    else:\n",
    "        break\n",
    "print(m10, m5, m1)"
   ]
  }
 ],
 "metadata": {
  "kernelspec": {
   "display_name": "Python 3",
   "language": "python",
   "name": "python3"
  },
  "language_info": {
   "codemirror_mode": {
    "name": "ipython",
    "version": 3
   },
   "file_extension": ".py",
   "mimetype": "text/x-python",
   "name": "python",
   "nbconvert_exporter": "python",
   "pygments_lexer": "ipython3",
   "version": "3.7.4"
  }
 },
 "nbformat": 4,
 "nbformat_minor": 2
}
