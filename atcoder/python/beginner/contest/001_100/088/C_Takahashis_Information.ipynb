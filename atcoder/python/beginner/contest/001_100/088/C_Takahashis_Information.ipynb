{
 "cells": [
  {
   "cell_type": "code",
   "execution_count": 19,
   "metadata": {},
   "outputs": [
    {
     "name": "stdout",
     "output_type": "stream",
     "text": [
      "1 8 6\n",
      "2 9 7\n",
      "0 7 7\n"
     ]
    }
   ],
   "source": [
    "c = []\n",
    "for i in range(3):\n",
    "    c.append(list(map(int, input().split())))"
   ]
  },
  {
   "cell_type": "code",
   "execution_count": 12,
   "metadata": {},
   "outputs": [],
   "source": [
    "def is_check(a, b, c):\n",
    "    for j in range(3):\n",
    "        for k in range(3):\n",
    "            if c[j][k] != (a[j] + b[k]):\n",
    "                return False\n",
    "    return True"
   ]
  },
  {
   "cell_type": "code",
   "execution_count": 21,
   "metadata": {},
   "outputs": [
    {
     "name": "stdout",
     "output_type": "stream",
     "text": [
      "No\n"
     ]
    }
   ],
   "source": [
    "for i in range(c[0][0] + 1):\n",
    "    a1 = i\n",
    "    b1 = c[0][0] - a1\n",
    "    b2 = c[0][1] - a1\n",
    "    b3 = c[0][2] - a1\n",
    "    a2 = c[1][0] - b1\n",
    "    a3 = c[2][0] - b1\n",
    "    \n",
    "    if not (b1 >= 0 and b1 <= 100\n",
    "        and b2 >= 0 and b2 <= 100\n",
    "        and b3 >= 0 and b3 <= 100\n",
    "        and a2 >= 0 and a2 <= 100\n",
    "        and a3 >= 0 and a3 <= 100) :\n",
    "        continue\n",
    "    \n",
    "    a = [a1, a2, a3]\n",
    "    b = [b1, b2, b3]\n",
    "    \n",
    "    is_ok = is_check(a, b, c)\n",
    "\n",
    "    if is_ok:\n",
    "        print('Yes')\n",
    "        break\n",
    "\n",
    "else:\n",
    "    print('No')"
   ]
  }
 ],
 "metadata": {
  "kernelspec": {
   "display_name": "Python 3",
   "language": "python",
   "name": "python3"
  },
  "language_info": {
   "codemirror_mode": {
    "name": "ipython",
    "version": 3
   },
   "file_extension": ".py",
   "mimetype": "text/x-python",
   "name": "python",
   "nbconvert_exporter": "python",
   "pygments_lexer": "ipython3",
   "version": "3.7.4"
  }
 },
 "nbformat": 4,
 "nbformat_minor": 2
}
