{
 "cells": [
  {
   "cell_type": "code",
   "execution_count": 81,
   "metadata": {},
   "outputs": [],
   "source": [
    "import itertools\n",
    "import math\n",
    "from functools import reduce\n",
    "\n",
    "def gcd(*numbers):\n",
    "    return reduce(math.gcd, numbers)\n",
    "\n",
    "def permutations_count(n, r):\n",
    "    return math.factorial(n) // math.factorial(n - r)"
   ]
  },
  {
   "cell_type": "code",
   "execution_count": 104,
   "metadata": {},
   "outputs": [
    {
     "name": "stdout",
     "output_type": "stream",
     "text": [
      "3 200\n"
     ]
    }
   ],
   "source": [
    "n, k = map(int, input().split())"
   ]
  },
  {
   "cell_type": "code",
   "execution_count": 105,
   "metadata": {},
   "outputs": [],
   "source": [
    "k_list = list(range(1, k + 1))"
   ]
  },
  {
   "cell_type": "code",
   "execution_count": 106,
   "metadata": {},
   "outputs": [
    {
     "name": "stdout",
     "output_type": "stream",
     "text": [
      "10813692\n"
     ]
    }
   ],
   "source": [
    "sum_of_gcd = 0\n",
    "dict_of_gcd = {}\n",
    "for v in itertools.product(k_list, repeat=n):\n",
    "    t = tuple(sorted(list(v)))\n",
    "    if t in dict_of_gcd:\n",
    "        dict_of_gcd[t] += 1\n",
    "    else:\n",
    "        dict_of_gcd[t] = 1\n",
    "\n",
    "for i, v in dict_of_gcd.items():\n",
    "    sum_of_gcd += gcd(*i) * v\n",
    "\n",
    "print(sum_of_gcd)"
   ]
  }
 ],
 "metadata": {
  "kernelspec": {
   "display_name": "Python 3",
   "language": "python",
   "name": "python3"
  },
  "language_info": {
   "codemirror_mode": {
    "name": "ipython",
    "version": 3
   },
   "file_extension": ".py",
   "mimetype": "text/x-python",
   "name": "python",
   "nbconvert_exporter": "python",
   "pygments_lexer": "ipython3",
   "version": "3.7.4"
  }
 },
 "nbformat": 4,
 "nbformat_minor": 2
}
