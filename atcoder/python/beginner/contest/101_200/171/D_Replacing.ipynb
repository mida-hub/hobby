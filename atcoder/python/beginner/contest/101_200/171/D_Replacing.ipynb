{
 "cells": [
  {
   "cell_type": "code",
   "execution_count": 121,
   "metadata": {},
   "outputs": [],
   "source": [
    "import bisect"
   ]
  },
  {
   "cell_type": "code",
   "execution_count": 126,
   "metadata": {},
   "outputs": [
    {
     "name": "stdout",
     "output_type": "stream",
     "text": [
      "2\n",
      "1 2\n"
     ]
    }
   ],
   "source": [
    "n = int(input())\n",
    "an_list = list(map(int, input().split()))\n",
    "an_list = sorted(an_list)\n",
    "max_num = max(an_list)\n",
    "min_num = min(an_list)"
   ]
  },
  {
   "cell_type": "code",
   "execution_count": 127,
   "metadata": {},
   "outputs": [
    {
     "name": "stdout",
     "output_type": "stream",
     "text": [
      "3\n",
      "1 100\n",
      "102\n",
      "2 100\n",
      "200\n",
      "100 1000\n",
      "2000\n"
     ]
    }
   ],
   "source": [
    "q = int(input())\n",
    "for _ in range(q):\n",
    "    b, c = map(int, input().split())\n",
    "    if min_num <= b and b <= max_num:\n",
    "        index_l = bisect.bisect_left(an_list, b)\n",
    "#         print(an_list[index_l] == b)\n",
    "        if an_list[index_l] == b:\n",
    "            index_r = bisect.bisect_right(an_list, b)\n",
    "            an_list[index_l:index_r] = [c] * (len(an_list[index_l:index_r]))\n",
    "            an_list = sorted(an_list)\n",
    "            max_num = max(an_list)\n",
    "            min_num = min(an_list)\n",
    "    print(sum(an_list))\n",
    "#     print(an_list)"
   ]
  }
 ],
 "metadata": {
  "kernelspec": {
   "display_name": "Python 3",
   "language": "python",
   "name": "python3"
  },
  "language_info": {
   "codemirror_mode": {
    "name": "ipython",
    "version": 3
   },
   "file_extension": ".py",
   "mimetype": "text/x-python",
   "name": "python",
   "nbconvert_exporter": "python",
   "pygments_lexer": "ipython3",
   "version": "3.7.4"
  }
 },
 "nbformat": 4,
 "nbformat_minor": 2
}
