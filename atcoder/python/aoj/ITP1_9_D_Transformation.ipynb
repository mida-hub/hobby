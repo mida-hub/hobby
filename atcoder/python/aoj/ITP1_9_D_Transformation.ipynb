{
 "cells": [
  {
   "cell_type": "code",
   "execution_count": 24,
   "metadata": {},
   "outputs": [
    {
     "name": "stdout",
     "output_type": "stream",
     "text": [
      "xyz\n",
      "3\n"
     ]
    }
   ],
   "source": [
    "s = input()\n",
    "q = int(input())"
   ]
  },
  {
   "cell_type": "code",
   "execution_count": 25,
   "metadata": {},
   "outputs": [
    {
     "name": "stdout",
     "output_type": "stream",
     "text": [
      "print 0 2\n",
      "xyz\n",
      "replace 0 2 abc\n",
      "print 0 2\n",
      "abc\n"
     ]
    }
   ],
   "source": [
    "for i in range(q):\n",
    "    input_value = list(input().split())\n",
    "    if len(input_value) == 4:\n",
    "        c, a, b, p = ' '.join(input_value).split()\n",
    "    else:\n",
    "        c, a, b = ' '.join(input_value).split()\n",
    "\n",
    "    a = int(a)\n",
    "    b = int(b)\n",
    "    \n",
    "    if c == 'replace':\n",
    "        s = s[:a] + p + s[b+1:]\n",
    "    \n",
    "    elif c == 'reverse':\n",
    "        s = s[:a] + ''.join(list(reversed(s[a:b+1]))) + s[b+1:]\n",
    "\n",
    "    \n",
    "    elif c == 'print':\n",
    "        print(s[a:b+1])    "
   ]
  }
 ],
 "metadata": {
  "kernelspec": {
   "display_name": "Python 3",
   "language": "python",
   "name": "python3"
  },
  "language_info": {
   "codemirror_mode": {
    "name": "ipython",
    "version": 3
   },
   "file_extension": ".py",
   "mimetype": "text/x-python",
   "name": "python",
   "nbconvert_exporter": "python",
   "pygments_lexer": "ipython3",
   "version": "3.7.4"
  }
 },
 "nbformat": 4,
 "nbformat_minor": 2
}
