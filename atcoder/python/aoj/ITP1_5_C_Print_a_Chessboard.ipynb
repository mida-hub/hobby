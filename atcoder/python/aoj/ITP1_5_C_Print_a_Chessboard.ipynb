{
 "cells": [
  {
   "cell_type": "code",
   "execution_count": 1,
   "metadata": {},
   "outputs": [],
   "source": [
    "h, w = 1, 1"
   ]
  },
  {
   "cell_type": "code",
   "execution_count": 2,
   "metadata": {},
   "outputs": [
    {
     "name": "stdout",
     "output_type": "stream",
     "text": [
      "3 4\n",
      "5 6\n",
      "3 3\n",
      "2 2\n",
      "1 1\n",
      "0 0\n"
     ]
    }
   ],
   "source": [
    "dataset = []\n",
    "while not(h == w == 0):\n",
    "    h, w = map(int, input().split())\n",
    "    dataset.append([h, w])"
   ]
  },
  {
   "cell_type": "code",
   "execution_count": 3,
   "metadata": {},
   "outputs": [
    {
     "name": "stdout",
     "output_type": "stream",
     "text": [
      "#.#.\n",
      ".#.#\n",
      "#.#.\n",
      "\n",
      "#.#.#.\n",
      ".#.#.#\n",
      "#.#.#.\n",
      ".#.#.#\n",
      "#.#.#.\n",
      "\n",
      "#.#\n",
      ".#.\n",
      "#.#\n",
      "\n",
      "#.\n",
      ".#\n",
      "\n",
      "#\n",
      "\n"
     ]
    }
   ],
   "source": [
    "for n, data in enumerate(dataset):\n",
    "    h, w = data[0], data[1]\n",
    "    for i in range(h):\n",
    "        for j in range(w):\n",
    "            if  ((i + j) % 2) == 1:\n",
    "                print(\".\", end=\"\")\n",
    "            else:\n",
    "                print(\"#\", end=\"\")\n",
    "        print(\"\")\n",
    "    if n!=len(dataset)-1:\n",
    "        print(\"\")"
   ]
  }
 ],
 "metadata": {
  "kernelspec": {
   "display_name": "Python 3",
   "language": "python",
   "name": "python3"
  },
  "language_info": {
   "codemirror_mode": {
    "name": "ipython",
    "version": 3
   },
   "file_extension": ".py",
   "mimetype": "text/x-python",
   "name": "python",
   "nbconvert_exporter": "python",
   "pygments_lexer": "ipython3",
   "version": "3.7.4"
  }
 },
 "nbformat": 4,
 "nbformat_minor": 2
}
