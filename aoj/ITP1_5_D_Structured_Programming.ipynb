{
 "cells": [
  {
   "cell_type": "code",
   "execution_count": 2,
   "metadata": {},
   "outputs": [
    {
     "name": "stdout",
     "output_type": "stream",
     "text": [
      "30\n"
     ]
    }
   ],
   "source": [
    "n = int(input())"
   ]
  },
  {
   "cell_type": "code",
   "execution_count": 17,
   "metadata": {},
   "outputs": [
    {
     "name": "stdout",
     "output_type": "stream",
     "text": [
      " 3 6 9 12 13 15 18 21 23 24 27 30\n"
     ]
    }
   ],
   "source": [
    "def divn(x, i, d, m):\n",
    "    if x % d == m:\n",
    "        print(\"\", i, end=\"\")\n",
    "        return True\n",
    "    return False\n",
    "\n",
    "def call(i):\n",
    "    x = i\n",
    "    if divn(x, i, 3, 0):return\n",
    "    if divn(x, i, 10, 3):return\n",
    "    tmp = 1\n",
    "    while tmp:\n",
    "        x = x // 10\n",
    "        tmp = x\n",
    "        if not tmp:return\n",
    "        if divn(x, i, 10, 3):return\n",
    "    return\n",
    "\n",
    "for i in range(n):\n",
    "    call(i+1)\n",
    "print(\"\")"
   ]
  }
 ],
 "metadata": {
  "kernelspec": {
   "display_name": "Python 3",
   "language": "python",
   "name": "python3"
  },
  "language_info": {
   "codemirror_mode": {
    "name": "ipython",
    "version": 3
   },
   "file_extension": ".py",
   "mimetype": "text/x-python",
   "name": "python",
   "nbconvert_exporter": "python",
   "pygments_lexer": "ipython3",
   "version": "3.7.4"
  }
 },
 "nbformat": 4,
 "nbformat_minor": 2
}
