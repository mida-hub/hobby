{
 "cells": [
  {
   "cell_type": "code",
   "execution_count": 1,
   "metadata": {},
   "outputs": [],
   "source": [
    "m, f, r = 0, 0, 0 "
   ]
  },
  {
   "cell_type": "code",
   "execution_count": 2,
   "metadata": {},
   "outputs": [
    {
     "name": "stdout",
     "output_type": "stream",
     "text": [
      "40 42 -1\n",
      "20 30 -1\n",
      "0 2 -1\n",
      "-1 -1 -1\n"
     ]
    }
   ],
   "source": [
    "dataset = []\n",
    "while True:\n",
    "    m, f, r = map(int, input().split())\n",
    "    if m == f == r == -1:break\n",
    "    dataset.append([m, f, r])"
   ]
  },
  {
   "cell_type": "code",
   "execution_count": 4,
   "metadata": {},
   "outputs": [
    {
     "name": "stdout",
     "output_type": "stream",
     "text": [
      "A\n",
      "C\n",
      "F\n"
     ]
    }
   ],
   "source": [
    "for data in dataset:\n",
    "    m, f, r = data[0], data[1], data[2]\n",
    "    if m == -1 or f == -1 or m + f < 30:\n",
    "        print('F')\n",
    "    elif m + f >= 80:\n",
    "        print('A')\n",
    "    elif m +f >= 65:\n",
    "        print('B')\n",
    "    elif m +f >= 50 \\\n",
    "          or (m + f >= 30 and r >= 50):\n",
    "        print('C')\n",
    "    else:\n",
    "        print('D')"
   ]
  }
 ],
 "metadata": {
  "kernelspec": {
   "display_name": "Python 3",
   "language": "python",
   "name": "python3"
  },
  "language_info": {
   "codemirror_mode": {
    "name": "ipython",
    "version": 3
   },
   "file_extension": ".py",
   "mimetype": "text/x-python",
   "name": "python",
   "nbconvert_exporter": "python",
   "pygments_lexer": "ipython3",
   "version": "3.7.4"
  }
 },
 "nbformat": 4,
 "nbformat_minor": 2
}
