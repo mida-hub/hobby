{
 "cells": [
  {
   "cell_type": "code",
   "execution_count": 48,
   "metadata": {},
   "outputs": [],
   "source": [
    "A = list([0] * 10 for x in range(3))\n",
    "B = list([0] * 10 for x in range(3))\n",
    "C = list([0] * 10 for x in range(3))\n",
    "D = list([0] * 10 for x in range(3))"
   ]
  },
  {
   "cell_type": "code",
   "execution_count": 49,
   "metadata": {},
   "outputs": [],
   "source": [
    "official_house = [A, B, C, D]"
   ]
  },
  {
   "cell_type": "code",
   "execution_count": 51,
   "metadata": {},
   "outputs": [
    {
     "name": "stdout",
     "output_type": "stream",
     "text": [
      "3\n"
     ]
    }
   ],
   "source": [
    "n = int(input())"
   ]
  },
  {
   "cell_type": "code",
   "execution_count": 52,
   "metadata": {},
   "outputs": [
    {
     "name": "stdout",
     "output_type": "stream",
     "text": [
      "1 1 3 8\n",
      "3 2 2 7\n",
      "4 3 8 1\n"
     ]
    }
   ],
   "source": [
    "for i in range(n):\n",
    "    b, f, r, v = map(int, input().split())\n",
    "    official_house[b - 1][f - 1][r- 1] += v"
   ]
  },
  {
   "cell_type": "code",
   "execution_count": 53,
   "metadata": {},
   "outputs": [
    {
     "name": "stdout",
     "output_type": "stream",
     "text": [
      "  0 0 8 0 0 0 0 0 0 0\n",
      "  0 0 0 0 0 0 0 0 0 0\n",
      "  0 0 0 0 0 0 0 0 0 0\n",
      "####################\n",
      "  0 0 0 0 0 0 0 0 0 0\n",
      "  0 0 0 0 0 0 0 0 0 0\n",
      "  0 0 0 0 0 0 0 0 0 0\n",
      "####################\n",
      "  0 0 0 0 0 0 0 0 0 0\n",
      "  0 7 0 0 0 0 0 0 0 0\n",
      "  0 0 0 0 0 0 0 0 0 0\n",
      "####################\n",
      "  0 0 0 0 0 0 0 0 0 0\n",
      "  0 0 0 0 0 0 0 0 0 0\n",
      "  0 0 0 0 0 0 0 1 0 0\n"
     ]
    }
   ],
   "source": [
    "for i, b in enumerate(official_house):\n",
    "    for f in b:\n",
    "        print(\"\", \" \".join(map(str, f)))\n",
    "    if i != len(official_house) - 1:\n",
    "        print(\"####################\")"
   ]
  }
 ],
 "metadata": {
  "kernelspec": {
   "display_name": "Python 3",
   "language": "python",
   "name": "python3"
  },
  "language_info": {
   "codemirror_mode": {
    "name": "ipython",
    "version": 3
   },
   "file_extension": ".py",
   "mimetype": "text/x-python",
   "name": "python",
   "nbconvert_exporter": "python",
   "pygments_lexer": "ipython3",
   "version": "3.7.4"
  }
 },
 "nbformat": 4,
 "nbformat_minor": 2
}
