{
 "cells": [
  {
   "cell_type": "code",
   "execution_count": 1,
   "metadata": {},
   "outputs": [
    {
     "name": "stdout",
     "output_type": "stream",
     "text": [
      "3\n",
      "1 2 3\n",
      "2 0 4\n"
     ]
    }
   ],
   "source": [
    "n = int(input())\n",
    "x = list(map(int, input().split()))\n",
    "y = list(map(int, input().split()))"
   ]
  },
  {
   "cell_type": "code",
   "execution_count": 14,
   "metadata": {},
   "outputs": [
    {
     "name": "stdout",
     "output_type": "stream",
     "text": [
      "4\n",
      "2.449489742783178\n",
      "2.154434690031884\n",
      "2\n"
     ]
    }
   ],
   "source": [
    "print(sum([abs(z) for z in [y - x for x, y in zip(x, y)]]))\n",
    "print(sum([(y - x) ** 2 for x, y in zip(x, y)]) ** 0.5)\n",
    "print(sum([abs(z) for z in [(y - x) ** 3 for x, y in zip(x, y)]]) ** (1/3))\n",
    "print(max([abs(z) for z in [y - x for x, y in zip(x, y)]]))"
   ]
  }
 ],
 "metadata": {
  "kernelspec": {
   "display_name": "Python 3",
   "language": "python",
   "name": "python3"
  },
  "language_info": {
   "codemirror_mode": {
    "name": "ipython",
    "version": 3
   },
   "file_extension": ".py",
   "mimetype": "text/x-python",
   "name": "python",
   "nbconvert_exporter": "python",
   "pygments_lexer": "ipython3",
   "version": "3.7.4"
  }
 },
 "nbformat": 4,
 "nbformat_minor": 2
}
