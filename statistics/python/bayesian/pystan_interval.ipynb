{
 "cells": [
  {
   "cell_type": "code",
   "execution_count": 13,
   "metadata": {},
   "outputs": [],
   "source": [
    "import pandas as pd\n",
    "import matplotlib.pyplot as plt\n",
    "import numpy as np\n",
    "import pystan\n",
    "from scipy.stats import mstats\n",
    "%matplotlib inline"
   ]
  },
  {
   "cell_type": "code",
   "execution_count": 3,
   "metadata": {},
   "outputs": [],
   "source": [
    "plt.style.use(\"ggplot\")"
   ]
  },
  {
   "cell_type": "code",
   "execution_count": 5,
   "metadata": {},
   "outputs": [],
   "source": [
    "df = pd.read_excel(\"./data/real_estate1.xlsx\")"
   ]
  },
  {
   "cell_type": "code",
   "execution_count": 10,
   "metadata": {},
   "outputs": [],
   "source": [
    "model_code = \"\"\"\n",
    "data {\n",
    "    int N;\n",
    "    real X[N];\n",
    "    real Y[N];\n",
    "    int N_s;\n",
    "    real X_s[N_s];\n",
    "}\n",
    "\n",
    "parameters {\n",
    "    real a;\n",
    "    real b;\n",
    "    real<lower=0> sigma;\n",
    "}\n",
    "\n",
    "model {\n",
    "    for (n in 1:N){\n",
    "        Y[n] ~ normal(a * X[n] + b, sigma);\n",
    "    }\n",
    "}\n",
    "\n",
    "generated quantities {\n",
    "    real Y_s[N_s];\n",
    "    for ( n in 1:N_s){\n",
    "        Y_s[n] = normal_rng(a * X_s[n] + b, sigma);\n",
    "    }\n",
    "}\n",
    "\n",
    "\"\"\""
   ]
  },
  {
   "cell_type": "code",
   "execution_count": 11,
   "metadata": {},
   "outputs": [
    {
     "name": "stderr",
     "output_type": "stream",
     "text": [
      "INFO:pystan:COMPILING THE C++ CODE FOR MODEL anon_model_dc18d217177bc6a4a9e1057e9f107eb8 NOW.\n"
     ]
    }
   ],
   "source": [
    "sm = pystan.StanModel(model_code=model_code)"
   ]
  },
  {
   "cell_type": "code",
   "execution_count": 15,
   "metadata": {},
   "outputs": [],
   "source": [
    "X_s = np.arange(40, 90, 1)\n",
    "N_s = X_s.shape[0]\n",
    "stan_data = {\"N\": df.shape[0], \"X\": df[\"space\"], \"Y\": df[\"value\"], \"N_s\": N_s, \"X_s\": X_s}"
   ]
  },
  {
   "cell_type": "code",
   "execution_count": 16,
   "metadata": {},
   "outputs": [],
   "source": [
    "fit = sm.sampling(data = stan_data, iter = 2000, warmup = 500, chains = 3, seed=123)"
   ]
  },
  {
   "cell_type": "code",
   "execution_count": 17,
   "metadata": {},
   "outputs": [
    {
     "data": {
      "text/plain": [
       "OrderedDict([('a',\n",
       "              array([ 76.41266253,  93.94065493,  80.63040866, ...,  95.98200868,\n",
       "                      53.71508784, 105.92215028]))])"
      ]
     },
     "execution_count": 17,
     "metadata": {},
     "output_type": "execute_result"
    }
   ],
   "source": [
    "fit.extract(\"a\")"
   ]
  },
  {
   "cell_type": "code",
   "execution_count": 18,
   "metadata": {},
   "outputs": [],
   "source": [
    "ms_a = fit.extract(\"a\")[\"a\"]"
   ]
  },
  {
   "cell_type": "code",
   "execution_count": 19,
   "metadata": {},
   "outputs": [
    {
     "data": {
      "text/plain": [
       "array([ 76.41266253,  93.94065493,  80.63040866, ...,  95.98200868,\n",
       "        53.71508784, 105.92215028])"
      ]
     },
     "execution_count": 19,
     "metadata": {},
     "output_type": "execute_result"
    }
   ],
   "source": [
    "ms_a"
   ]
  },
  {
   "cell_type": "code",
   "execution_count": 20,
   "metadata": {},
   "outputs": [
    {
     "data": {
      "text/plain": [
       "(array([  17.,   70.,  290.,  793., 1342., 1250.,  538.,  169.,   27.,\n",
       "           4.]),\n",
       " array([ 33.90050792,  43.03118731,  52.1618667 ,  61.29254608,\n",
       "         70.42322547,  79.55390486,  88.68458425,  97.81526363,\n",
       "        106.94594302, 116.07662241, 125.20730179]),\n",
       " <a list of 10 Patch objects>)"
      ]
     },
     "execution_count": 20,
     "metadata": {},
     "output_type": "execute_result"
    },
    {
     "data": {
      "image/png": "[encoded data removed]",
      "text/plain": [
       "<Figure size 432x288 with 1 Axes>"
      ]
     },
     "metadata": {
      "needs_background": "light"
     },
     "output_type": "display_data"
    }
   ],
   "source": [
    "plt.hist(ms_a)"
   ]
  },
  {
   "cell_type": "code",
   "execution_count": 21,
   "metadata": {},
   "outputs": [],
   "source": [
    "ms_b = fit.extract(\"b\")[\"b\"]"
   ]
  },
  {
   "cell_type": "code",
   "execution_count": 23,
   "metadata": {},
   "outputs": [],
   "source": [
    "df_b = pd.DataFrame([])\n",
    "for i in range(40, 90, 1):\n",
    "    df_b[i] = ms_a * i + ms_b"
   ]
  },
  {
   "cell_type": "code",
   "execution_count": 24,
   "metadata": {},
   "outputs": [
    {
     "data": {
      "text/html": [
       "<div>\n",
       "<style scoped>\n",
       "    .dataframe tbody tr th:only-of-type {\n",
       "        vertical-align: middle;\n",
       "    }\n",
       "\n",
       "    .dataframe tbody tr th {\n",
       "        vertical-align: top;\n",
       "    }\n",
       "\n",
       "    .dataframe thead th {\n",
       "        text-align: right;\n",
       "    }\n",
       "</style>\n",
       "<table border=\"1\" class=\"dataframe\">\n",
       "  <thead>\n",
       "    <tr style=\"text-align: right;\">\n",
       "      <th></th>\n",
       "      <th>40</th>\n",
       "      <th>41</th>\n",
       "      <th>42</th>\n",
       "      <th>43</th>\n",
       "      <th>44</th>\n",
       "      <th>45</th>\n",
       "      <th>46</th>\n",
       "      <th>47</th>\n",
       "      <th>48</th>\n",
       "      <th>49</th>\n",
       "      <th>...</th>\n",
       "      <th>80</th>\n",
       "      <th>81</th>\n",
       "      <th>82</th>\n",
       "      <th>83</th>\n",
       "      <th>84</th>\n",
       "      <th>85</th>\n",
       "      <th>86</th>\n",
       "      <th>87</th>\n",
       "      <th>88</th>\n",
       "      <th>89</th>\n",
       "    </tr>\n",
       "  </thead>\n",
       "  <tbody>\n",
       "    <tr>\n",
       "      <th>0</th>\n",
       "      <td>2494.951533</td>\n",
       "      <td>2571.364196</td>\n",
       "      <td>2647.776858</td>\n",
       "      <td>2724.189521</td>\n",
       "      <td>2800.602183</td>\n",
       "      <td>2877.014846</td>\n",
       "      <td>2953.427508</td>\n",
       "      <td>3029.840171</td>\n",
       "      <td>3106.252833</td>\n",
       "      <td>3182.665496</td>\n",
       "      <td>...</td>\n",
       "      <td>5551.458034</td>\n",
       "      <td>5627.870697</td>\n",
       "      <td>5704.283359</td>\n",
       "      <td>5780.696022</td>\n",
       "      <td>5857.108684</td>\n",
       "      <td>5933.521347</td>\n",
       "      <td>6009.934009</td>\n",
       "      <td>6086.346672</td>\n",
       "      <td>6162.759335</td>\n",
       "      <td>6239.171997</td>\n",
       "    </tr>\n",
       "    <tr>\n",
       "      <th>1</th>\n",
       "      <td>1847.759777</td>\n",
       "      <td>1941.700432</td>\n",
       "      <td>2035.641086</td>\n",
       "      <td>2129.581741</td>\n",
       "      <td>2223.522396</td>\n",
       "      <td>2317.463051</td>\n",
       "      <td>2411.403706</td>\n",
       "      <td>2505.344361</td>\n",
       "      <td>2599.285016</td>\n",
       "      <td>2693.225671</td>\n",
       "      <td>...</td>\n",
       "      <td>5605.385974</td>\n",
       "      <td>5699.326629</td>\n",
       "      <td>5793.267284</td>\n",
       "      <td>5887.207939</td>\n",
       "      <td>5981.148594</td>\n",
       "      <td>6075.089249</td>\n",
       "      <td>6169.029904</td>\n",
       "      <td>6262.970558</td>\n",
       "      <td>6356.911213</td>\n",
       "      <td>6450.851868</td>\n",
       "    </tr>\n",
       "    <tr>\n",
       "      <th>2</th>\n",
       "      <td>2150.256798</td>\n",
       "      <td>2230.887207</td>\n",
       "      <td>2311.517615</td>\n",
       "      <td>2392.148024</td>\n",
       "      <td>2472.778432</td>\n",
       "      <td>2553.408841</td>\n",
       "      <td>2634.039250</td>\n",
       "      <td>2714.669658</td>\n",
       "      <td>2795.300067</td>\n",
       "      <td>2875.930476</td>\n",
       "      <td>...</td>\n",
       "      <td>5375.473144</td>\n",
       "      <td>5456.103553</td>\n",
       "      <td>5536.733962</td>\n",
       "      <td>5617.364370</td>\n",
       "      <td>5697.994779</td>\n",
       "      <td>5778.625188</td>\n",
       "      <td>5859.255596</td>\n",
       "      <td>5939.886005</td>\n",
       "      <td>6020.516414</td>\n",
       "      <td>6101.146822</td>\n",
       "    </tr>\n",
       "    <tr>\n",
       "      <th>3</th>\n",
       "      <td>2362.582375</td>\n",
       "      <td>2437.868728</td>\n",
       "      <td>2513.155081</td>\n",
       "      <td>2588.441433</td>\n",
       "      <td>2663.727786</td>\n",
       "      <td>2739.014139</td>\n",
       "      <td>2814.300491</td>\n",
       "      <td>2889.586844</td>\n",
       "      <td>2964.873197</td>\n",
       "      <td>3040.159549</td>\n",
       "      <td>...</td>\n",
       "      <td>5374.036482</td>\n",
       "      <td>5449.322835</td>\n",
       "      <td>5524.609187</td>\n",
       "      <td>5599.895540</td>\n",
       "      <td>5675.181893</td>\n",
       "      <td>5750.468245</td>\n",
       "      <td>5825.754598</td>\n",
       "      <td>5901.040951</td>\n",
       "      <td>5976.327303</td>\n",
       "      <td>6051.613656</td>\n",
       "    </tr>\n",
       "    <tr>\n",
       "      <th>4</th>\n",
       "      <td>2502.128603</td>\n",
       "      <td>2573.937127</td>\n",
       "      <td>2645.745652</td>\n",
       "      <td>2717.554177</td>\n",
       "      <td>2789.362701</td>\n",
       "      <td>2861.171226</td>\n",
       "      <td>2932.979750</td>\n",
       "      <td>3004.788275</td>\n",
       "      <td>3076.596800</td>\n",
       "      <td>3148.405324</td>\n",
       "      <td>...</td>\n",
       "      <td>5374.469586</td>\n",
       "      <td>5446.278110</td>\n",
       "      <td>5518.086635</td>\n",
       "      <td>5589.895160</td>\n",
       "      <td>5661.703684</td>\n",
       "      <td>5733.512209</td>\n",
       "      <td>5805.320733</td>\n",
       "      <td>5877.129258</td>\n",
       "      <td>5948.937782</td>\n",
       "      <td>6020.746307</td>\n",
       "    </tr>\n",
       "    <tr>\n",
       "      <th>...</th>\n",
       "      <td>...</td>\n",
       "      <td>...</td>\n",
       "      <td>...</td>\n",
       "      <td>...</td>\n",
       "      <td>...</td>\n",
       "      <td>...</td>\n",
       "      <td>...</td>\n",
       "      <td>...</td>\n",
       "      <td>...</td>\n",
       "      <td>...</td>\n",
       "      <td>...</td>\n",
       "      <td>...</td>\n",
       "      <td>...</td>\n",
       "      <td>...</td>\n",
       "      <td>...</td>\n",
       "      <td>...</td>\n",
       "      <td>...</td>\n",
       "      <td>...</td>\n",
       "      <td>...</td>\n",
       "      <td>...</td>\n",
       "      <td>...</td>\n",
       "    </tr>\n",
       "    <tr>\n",
       "      <th>4495</th>\n",
       "      <td>2683.472453</td>\n",
       "      <td>2751.343904</td>\n",
       "      <td>2819.215354</td>\n",
       "      <td>2887.086805</td>\n",
       "      <td>2954.958256</td>\n",
       "      <td>3022.829707</td>\n",
       "      <td>3090.701157</td>\n",
       "      <td>3158.572608</td>\n",
       "      <td>3226.444059</td>\n",
       "      <td>3294.315510</td>\n",
       "      <td>...</td>\n",
       "      <td>5398.330483</td>\n",
       "      <td>5466.201934</td>\n",
       "      <td>5534.073385</td>\n",
       "      <td>5601.944835</td>\n",
       "      <td>5669.816286</td>\n",
       "      <td>5737.687737</td>\n",
       "      <td>5805.559188</td>\n",
       "      <td>5873.430638</td>\n",
       "      <td>5941.302089</td>\n",
       "      <td>6009.173540</td>\n",
       "    </tr>\n",
       "    <tr>\n",
       "      <th>4496</th>\n",
       "      <td>2540.431482</td>\n",
       "      <td>2618.357792</td>\n",
       "      <td>2696.284102</td>\n",
       "      <td>2774.210413</td>\n",
       "      <td>2852.136723</td>\n",
       "      <td>2930.063033</td>\n",
       "      <td>3007.989343</td>\n",
       "      <td>3085.915653</td>\n",
       "      <td>3163.841964</td>\n",
       "      <td>3241.768274</td>\n",
       "      <td>...</td>\n",
       "      <td>5657.483891</td>\n",
       "      <td>5735.410201</td>\n",
       "      <td>5813.336511</td>\n",
       "      <td>5891.262821</td>\n",
       "      <td>5969.189131</td>\n",
       "      <td>6047.115442</td>\n",
       "      <td>6125.041752</td>\n",
       "      <td>6202.968062</td>\n",
       "      <td>6280.894372</td>\n",
       "      <td>6358.820683</td>\n",
       "    </tr>\n",
       "    <tr>\n",
       "      <th>4497</th>\n",
       "      <td>2130.006216</td>\n",
       "      <td>2225.988225</td>\n",
       "      <td>2321.970234</td>\n",
       "      <td>2417.952242</td>\n",
       "      <td>2513.934251</td>\n",
       "      <td>2609.916260</td>\n",
       "      <td>2705.898268</td>\n",
       "      <td>2801.880277</td>\n",
       "      <td>2897.862286</td>\n",
       "      <td>2993.844294</td>\n",
       "      <td>...</td>\n",
       "      <td>5969.286563</td>\n",
       "      <td>6065.268572</td>\n",
       "      <td>6161.250581</td>\n",
       "      <td>6257.232589</td>\n",
       "      <td>6353.214598</td>\n",
       "      <td>6449.196607</td>\n",
       "      <td>6545.178615</td>\n",
       "      <td>6641.160624</td>\n",
       "      <td>6737.142633</td>\n",
       "      <td>6833.124641</td>\n",
       "    </tr>\n",
       "    <tr>\n",
       "      <th>4498</th>\n",
       "      <td>3116.436390</td>\n",
       "      <td>3170.151478</td>\n",
       "      <td>3223.866565</td>\n",
       "      <td>3277.581653</td>\n",
       "      <td>3331.296741</td>\n",
       "      <td>3385.011829</td>\n",
       "      <td>3438.726917</td>\n",
       "      <td>3492.442005</td>\n",
       "      <td>3546.157092</td>\n",
       "      <td>3599.872180</td>\n",
       "      <td>...</td>\n",
       "      <td>5265.039903</td>\n",
       "      <td>5318.754991</td>\n",
       "      <td>5372.470079</td>\n",
       "      <td>5426.185167</td>\n",
       "      <td>5479.900255</td>\n",
       "      <td>5533.615342</td>\n",
       "      <td>5587.330430</td>\n",
       "      <td>5641.045518</td>\n",
       "      <td>5694.760606</td>\n",
       "      <td>5748.475694</td>\n",
       "    </tr>\n",
       "    <tr>\n",
       "      <th>4499</th>\n",
       "      <td>1330.619064</td>\n",
       "      <td>1436.541215</td>\n",
       "      <td>1542.463365</td>\n",
       "      <td>1648.385515</td>\n",
       "      <td>1754.307666</td>\n",
       "      <td>1860.229816</td>\n",
       "      <td>1966.151966</td>\n",
       "      <td>2072.074116</td>\n",
       "      <td>2177.996267</td>\n",
       "      <td>2283.918417</td>\n",
       "      <td>...</td>\n",
       "      <td>5567.505075</td>\n",
       "      <td>5673.427226</td>\n",
       "      <td>5779.349376</td>\n",
       "      <td>5885.271526</td>\n",
       "      <td>5991.193677</td>\n",
       "      <td>6097.115827</td>\n",
       "      <td>6203.037977</td>\n",
       "      <td>6308.960127</td>\n",
       "      <td>6414.882278</td>\n",
       "      <td>6520.804428</td>\n",
       "    </tr>\n",
       "  </tbody>\n",
       "</table>\n",
       "<p>4500 rows × 50 columns</p>\n",
       "</div>"
      ],
      "text/plain": [
       "               40           41           42           43           44  \\\n",
       "0     2494.951533  2571.364196  2647.776858  2724.189521  2800.602183   \n",
       "1     1847.759777  1941.700432  2035.641086  2129.581741  2223.522396   \n",
       "2     2150.256798  2230.887207  2311.517615  2392.148024  2472.778432   \n",
       "3     2362.582375  2437.868728  2513.155081  2588.441433  2663.727786   \n",
       "4     2502.128603  2573.937127  2645.745652  2717.554177  2789.362701   \n",
       "...           ...          ...          ...          ...          ...   \n",
       "4495  2683.472453  2751.343904  2819.215354  2887.086805  2954.958256   \n",
       "4496  2540.431482  2618.357792  2696.284102  2774.210413  2852.136723   \n",
       "4497  2130.006216  2225.988225  2321.970234  2417.952242  2513.934251   \n",
       "4498  3116.436390  3170.151478  3223.866565  3277.581653  3331.296741   \n",
       "4499  1330.619064  1436.541215  1542.463365  1648.385515  1754.307666   \n",
       "\n",
       "               45           46           47           48           49  ...  \\\n",
       "0     2877.014846  2953.427508  3029.840171  3106.252833  3182.665496  ...   \n",
       "1     2317.463051  2411.403706  2505.344361  2599.285016  2693.225671  ...   \n",
       "2     2553.408841  2634.039250  2714.669658  2795.300067  2875.930476  ...   \n",
       "3     2739.014139  2814.300491  2889.586844  2964.873197  3040.159549  ...   \n",
       "4     2861.171226  2932.979750  3004.788275  3076.596800  3148.405324  ...   \n",
       "...           ...          ...          ...          ...          ...  ...   \n",
       "4495  3022.829707  3090.701157  3158.572608  3226.444059  3294.315510  ...   \n",
       "4496  2930.063033  3007.989343  3085.915653  3163.841964  3241.768274  ...   \n",
       "4497  2609.916260  2705.898268  2801.880277  2897.862286  2993.844294  ...   \n",
       "4498  3385.011829  3438.726917  3492.442005  3546.157092  3599.872180  ...   \n",
       "4499  1860.229816  1966.151966  2072.074116  2177.996267  2283.918417  ...   \n",
       "\n",
       "               80           81           82           83           84  \\\n",
       "0     5551.458034  5627.870697  5704.283359  5780.696022  5857.108684   \n",
       "1     5605.385974  5699.326629  5793.267284  5887.207939  5981.148594   \n",
       "2     5375.473144  5456.103553  5536.733962  5617.364370  5697.994779   \n",
       "3     5374.036482  5449.322835  5524.609187  5599.895540  5675.181893   \n",
       "4     5374.469586  5446.278110  5518.086635  5589.895160  5661.703684   \n",
       "...           ...          ...          ...          ...          ...   \n",
       "4495  5398.330483  5466.201934  5534.073385  5601.944835  5669.816286   \n",
       "4496  5657.483891  5735.410201  5813.336511  5891.262821  5969.189131   \n",
       "4497  5969.286563  6065.268572  6161.250581  6257.232589  6353.214598   \n",
       "4498  5265.039903  5318.754991  5372.470079  5426.185167  5479.900255   \n",
       "4499  5567.505075  5673.427226  5779.349376  5885.271526  5991.193677   \n",
       "\n",
       "               85           86           87           88           89  \n",
       "0     5933.521347  6009.934009  6086.346672  6162.759335  6239.171997  \n",
       "1     6075.089249  6169.029904  6262.970558  6356.911213  6450.851868  \n",
       "2     5778.625188  5859.255596  5939.886005  6020.516414  6101.146822  \n",
       "3     5750.468245  5825.754598  5901.040951  5976.327303  6051.613656  \n",
       "4     5733.512209  5805.320733  5877.129258  5948.937782  6020.746307  \n",
       "...           ...          ...          ...          ...          ...  \n",
       "4495  5737.687737  5805.559188  5873.430638  5941.302089  6009.173540  \n",
       "4496  6047.115442  6125.041752  6202.968062  6280.894372  6358.820683  \n",
       "4497  6449.196607  6545.178615  6641.160624  6737.142633  6833.124641  \n",
       "4498  5533.615342  5587.330430  5641.045518  5694.760606  5748.475694  \n",
       "4499  6097.115827  6203.037977  6308.960127  6414.882278  6520.804428  \n",
       "\n",
       "[4500 rows x 50 columns]"
      ]
     },
     "execution_count": 24,
     "metadata": {},
     "output_type": "execute_result"
    }
   ],
   "source": [
    "df_b"
   ]
  },
  {
   "cell_type": "code",
   "execution_count": 25,
   "metadata": {},
   "outputs": [],
   "source": [
    "low_y50, high_y50 = mstats.mquantiles(df_b, [0.25, 0.75], axis=0)\n",
    "low_y95, high_y95 = mstats.mquantiles(df_b, [0.025, 0.975], axis=0)"
   ]
  },
  {
   "cell_type": "code",
   "execution_count": 27,
   "metadata": {},
   "outputs": [
    {
     "data": {
      "text/plain": [
       "[<matplotlib.lines.Line2D at 0x129623290>]"
      ]
     },
     "execution_count": 27,
     "metadata": {},
     "output_type": "execute_result"
    },
    {
     "data": {
      "image/png": "[encoded data removed]",
      "text/plain": [
       "<Figure size 432x288 with 1 Axes>"
      ]
     },
     "metadata": {
      "needs_background": "light"
     },
     "output_type": "display_data"
    }
   ],
   "source": [
    "# 信頼区間\n",
    "plt.scatter(df[\"space\"], df[\"value\"])\n",
    "plt.fill_between(X_s, low_y50, high_y50, alpha=0.6, color=\"darkgray\")\n",
    "plt.fill_between(X_s, low_y95, high_y95, alpha=0.3, color=\"gray\")\n",
    "a = 79.03\n",
    "b = -764.1\n",
    "y = a * X_s + b\n",
    "plt.plot(X_s, y, color=\"black\")"
   ]
  },
  {
   "cell_type": "code",
   "execution_count": 28,
   "metadata": {},
   "outputs": [],
   "source": [
    "Y_p = fit.extract(\"Y_s\")[\"Y_s\"]"
   ]
  },
  {
   "cell_type": "code",
   "execution_count": 29,
   "metadata": {},
   "outputs": [],
   "source": [
    "low_y, high_y = mstats.mquantiles(Y_p, [0.025, 0.975], axis=0)"
   ]
  },
  {
   "cell_type": "code",
   "execution_count": 30,
   "metadata": {},
   "outputs": [
    {
     "data": {
      "text/plain": [
       "[<matplotlib.lines.Line2D at 0x12960a490>]"
      ]
     },
     "execution_count": 30,
     "metadata": {},
     "output_type": "execute_result"
    },
    {
     "data": {
      "image/png": "[encoded data removed]",
      "text/plain": [
       "<Figure size 432x288 with 1 Axes>"
      ]
     },
     "metadata": {
      "needs_background": "light"
     },
     "output_type": "display_data"
    }
   ],
   "source": [
    "# 予測区間\n",
    "plt.scatter(df[\"space\"], df[\"value\"])\n",
    "plt.fill_between(X_s, low_y, high_y, alpha=0.3, color=\"gray\")\n",
    "a = 79.03\n",
    "b = -764.1\n",
    "y = a * X_s + b\n",
    "plt.plot(X_s, y, color=\"black\")"
   ]
  }
 ],
 "metadata": {
  "kernelspec": {
   "display_name": "Python 3",
   "language": "python",
   "name": "python3"
  },
  "language_info": {
   "codemirror_mode": {
    "name": "ipython",
    "version": 3
   },
   "file_extension": ".py",
   "mimetype": "text/x-python",
   "name": "python",
   "nbconvert_exporter": "python",
   "pygments_lexer": "ipython3",
   "version": "3.7.4"
  }
 },
 "nbformat": 4,
 "nbformat_minor": 4
}
